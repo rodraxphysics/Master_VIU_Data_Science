{
  "cells": [
    {
      "cell_type": "markdown",
      "metadata": {
        "id": "view-in-github",
        "colab_type": "text"
      },
      "source": [
        "<a href=\"https://colab.research.google.com/github/rodraxphysics/Master_VIU_Data_Science/blob/main/04_Aprendizaje_No_Supervisado_Clustering.ipynb\" target=\"_parent\"><img src=\"https://colab.research.google.com/assets/colab-badge.svg\" alt=\"Open In Colab\"/></a>"
      ]
    },
    {
      "cell_type": "markdown",
      "metadata": {
        "id": "Ti5Wnz3cgkRD"
      },
      "source": [
        "## <center>  <center>\n",
        "## <center> Universidad Internacional de Valencia (VIU) <center>\n",
        "## <center> Trabajo Fin de Master (TFM) <center>\n",
        "\n",
        "\n",
        "---\n",
        "\n",
        "\n",
        "# <center> **Predicción de la magnitud de la banda prohibida (bandgap) en compuestos inorgánicos mediante técnicas de Machine Learning** <center>\n",
        "\n",
        "\n",
        "---\n",
        "\n",
        "\n",
        "\n",
        "**Titulación:** Máster en Big Data y Data Science\n",
        "\n",
        "**Alumno:** Rodrigo Eduardo Sandoval Brito\n",
        "\n",
        "**Director:** Jose Carlos González, PhD.\n",
        "\n",
        "\n",
        "\n",
        "---"
      ]
    },
    {
      "cell_type": "markdown",
      "source": [
        "\n",
        "## <center> **Aplicacion de Aprendizaje No Supervisado para Clustering de Caracteristicas** <center>"
      ],
      "metadata": {
        "id": "VGY3awcTOxFK"
      }
    },
    {
      "cell_type": "markdown",
      "metadata": {
        "id": "523Qmp4r2Puq"
      },
      "source": [
        "**Importacion de dataset descargado de API de Materials Project desde archivo csv**"
      ]
    },
    {
      "cell_type": "code",
      "execution_count": null,
      "metadata": {
        "id": "QcqAjsMIKluO"
      },
      "outputs": [],
      "source": [
        "# Imports generales\n",
        "import pandas as pd\n",
        "import io\n",
        "from google.colab import files\n",
        "import numpy as np\n",
        "import time\n",
        "\n",
        "def upload_files (index_fields=None):\n",
        "  uploaded = files.upload()\n",
        "  for fn in uploaded.keys():\n",
        "    print('User uploaded file \"{name}\" with length {length} bytes'.format(\n",
        "        name=fn, length=len(uploaded[fn])))\n",
        "    df = pd.read_csv(io.StringIO(uploaded[fn].decode('utf-8')), index_col = index_fields)\n",
        "\n",
        "    return df"
      ]
    },
    {
      "cell_type": "code",
      "execution_count": null,
      "metadata": {
        "colab": {
          "base_uri": "https://localhost:8080/",
          "height": 91
        },
        "id": "CRnebroi6Pwc",
        "outputId": "a9b1c02d-3711-47c7-c8cf-c66ce325869b"
      },
      "outputs": [
        {
          "output_type": "display_data",
          "data": {
            "text/plain": [
              "<IPython.core.display.HTML object>"
            ],
            "text/html": [
              "\n",
              "     <input type=\"file\" id=\"files-d4b0672a-2a37-4407-9cf2-0743c7b77253\" name=\"files[]\" multiple disabled\n",
              "        style=\"border:none\" />\n",
              "     <output id=\"result-d4b0672a-2a37-4407-9cf2-0743c7b77253\">\n",
              "      Upload widget is only available when the cell has been executed in the\n",
              "      current browser session. Please rerun this cell to enable.\n",
              "      </output>\n",
              "      <script>// Copyright 2017 Google LLC\n",
              "//\n",
              "// Licensed under the Apache License, Version 2.0 (the \"License\");\n",
              "// you may not use this file except in compliance with the License.\n",
              "// You may obtain a copy of the License at\n",
              "//\n",
              "//      http://www.apache.org/licenses/LICENSE-2.0\n",
              "//\n",
              "// Unless required by applicable law or agreed to in writing, software\n",
              "// distributed under the License is distributed on an \"AS IS\" BASIS,\n",
              "// WITHOUT WARRANTIES OR CONDITIONS OF ANY KIND, either express or implied.\n",
              "// See the License for the specific language governing permissions and\n",
              "// limitations under the License.\n",
              "\n",
              "/**\n",
              " * @fileoverview Helpers for google.colab Python module.\n",
              " */\n",
              "(function(scope) {\n",
              "function span(text, styleAttributes = {}) {\n",
              "  const element = document.createElement('span');\n",
              "  element.textContent = text;\n",
              "  for (const key of Object.keys(styleAttributes)) {\n",
              "    element.style[key] = styleAttributes[key];\n",
              "  }\n",
              "  return element;\n",
              "}\n",
              "\n",
              "// Max number of bytes which will be uploaded at a time.\n",
              "const MAX_PAYLOAD_SIZE = 100 * 1024;\n",
              "\n",
              "function _uploadFiles(inputId, outputId) {\n",
              "  const steps = uploadFilesStep(inputId, outputId);\n",
              "  const outputElement = document.getElementById(outputId);\n",
              "  // Cache steps on the outputElement to make it available for the next call\n",
              "  // to uploadFilesContinue from Python.\n",
              "  outputElement.steps = steps;\n",
              "\n",
              "  return _uploadFilesContinue(outputId);\n",
              "}\n",
              "\n",
              "// This is roughly an async generator (not supported in the browser yet),\n",
              "// where there are multiple asynchronous steps and the Python side is going\n",
              "// to poll for completion of each step.\n",
              "// This uses a Promise to block the python side on completion of each step,\n",
              "// then passes the result of the previous step as the input to the next step.\n",
              "function _uploadFilesContinue(outputId) {\n",
              "  const outputElement = document.getElementById(outputId);\n",
              "  const steps = outputElement.steps;\n",
              "\n",
              "  const next = steps.next(outputElement.lastPromiseValue);\n",
              "  return Promise.resolve(next.value.promise).then((value) => {\n",
              "    // Cache the last promise value to make it available to the next\n",
              "    // step of the generator.\n",
              "    outputElement.lastPromiseValue = value;\n",
              "    return next.value.response;\n",
              "  });\n",
              "}\n",
              "\n",
              "/**\n",
              " * Generator function which is called between each async step of the upload\n",
              " * process.\n",
              " * @param {string} inputId Element ID of the input file picker element.\n",
              " * @param {string} outputId Element ID of the output display.\n",
              " * @return {!Iterable<!Object>} Iterable of next steps.\n",
              " */\n",
              "function* uploadFilesStep(inputId, outputId) {\n",
              "  const inputElement = document.getElementById(inputId);\n",
              "  inputElement.disabled = false;\n",
              "\n",
              "  const outputElement = document.getElementById(outputId);\n",
              "  outputElement.innerHTML = '';\n",
              "\n",
              "  const pickedPromise = new Promise((resolve) => {\n",
              "    inputElement.addEventListener('change', (e) => {\n",
              "      resolve(e.target.files);\n",
              "    });\n",
              "  });\n",
              "\n",
              "  const cancel = document.createElement('button');\n",
              "  inputElement.parentElement.appendChild(cancel);\n",
              "  cancel.textContent = 'Cancel upload';\n",
              "  const cancelPromise = new Promise((resolve) => {\n",
              "    cancel.onclick = () => {\n",
              "      resolve(null);\n",
              "    };\n",
              "  });\n",
              "\n",
              "  // Wait for the user to pick the files.\n",
              "  const files = yield {\n",
              "    promise: Promise.race([pickedPromise, cancelPromise]),\n",
              "    response: {\n",
              "      action: 'starting',\n",
              "    }\n",
              "  };\n",
              "\n",
              "  cancel.remove();\n",
              "\n",
              "  // Disable the input element since further picks are not allowed.\n",
              "  inputElement.disabled = true;\n",
              "\n",
              "  if (!files) {\n",
              "    return {\n",
              "      response: {\n",
              "        action: 'complete',\n",
              "      }\n",
              "    };\n",
              "  }\n",
              "\n",
              "  for (const file of files) {\n",
              "    const li = document.createElement('li');\n",
              "    li.append(span(file.name, {fontWeight: 'bold'}));\n",
              "    li.append(span(\n",
              "        `(${file.type || 'n/a'}) - ${file.size} bytes, ` +\n",
              "        `last modified: ${\n",
              "            file.lastModifiedDate ? file.lastModifiedDate.toLocaleDateString() :\n",
              "                                    'n/a'} - `));\n",
              "    const percent = span('0% done');\n",
              "    li.appendChild(percent);\n",
              "\n",
              "    outputElement.appendChild(li);\n",
              "\n",
              "    const fileDataPromise = new Promise((resolve) => {\n",
              "      const reader = new FileReader();\n",
              "      reader.onload = (e) => {\n",
              "        resolve(e.target.result);\n",
              "      };\n",
              "      reader.readAsArrayBuffer(file);\n",
              "    });\n",
              "    // Wait for the data to be ready.\n",
              "    let fileData = yield {\n",
              "      promise: fileDataPromise,\n",
              "      response: {\n",
              "        action: 'continue',\n",
              "      }\n",
              "    };\n",
              "\n",
              "    // Use a chunked sending to avoid message size limits. See b/62115660.\n",
              "    let position = 0;\n",
              "    do {\n",
              "      const length = Math.min(fileData.byteLength - position, MAX_PAYLOAD_SIZE);\n",
              "      const chunk = new Uint8Array(fileData, position, length);\n",
              "      position += length;\n",
              "\n",
              "      const base64 = btoa(String.fromCharCode.apply(null, chunk));\n",
              "      yield {\n",
              "        response: {\n",
              "          action: 'append',\n",
              "          file: file.name,\n",
              "          data: base64,\n",
              "        },\n",
              "      };\n",
              "\n",
              "      let percentDone = fileData.byteLength === 0 ?\n",
              "          100 :\n",
              "          Math.round((position / fileData.byteLength) * 100);\n",
              "      percent.textContent = `${percentDone}% done`;\n",
              "\n",
              "    } while (position < fileData.byteLength);\n",
              "  }\n",
              "\n",
              "  // All done.\n",
              "  yield {\n",
              "    response: {\n",
              "      action: 'complete',\n",
              "    }\n",
              "  };\n",
              "}\n",
              "\n",
              "scope.google = scope.google || {};\n",
              "scope.google.colab = scope.google.colab || {};\n",
              "scope.google.colab._files = {\n",
              "  _uploadFiles,\n",
              "  _uploadFilesContinue,\n",
              "};\n",
              "})(self);\n",
              "</script> "
            ]
          },
          "metadata": {}
        },
        {
          "output_type": "stream",
          "name": "stdout",
          "text": [
            "Saving DATA_RAW_29222.csv to DATA_RAW_29222 (3).csv\n",
            "User uploaded file \"DATA_RAW_29222 (3).csv\" with length 6256363 bytes\n"
          ]
        }
      ],
      "source": [
        "df = upload_files()"
      ]
    },
    {
      "cell_type": "markdown",
      "metadata": {
        "id": "xqPJtthcz2ea"
      },
      "source": [
        "**Con el objetivo de identificar caracteristicas similares podemos buscar clusters dentro de nuestras variables. Para lo cual primero daremos una abreviacion a cada una de las caracteristicas con la finalidad de poder diferenciarlas facilmente en la visualizacion posterior**"
      ]
    },
    {
      "cell_type": "code",
      "execution_count": null,
      "metadata": {
        "colab": {
          "base_uri": "https://localhost:8080/"
        },
        "id": "q9H8g2kKW1OZ",
        "outputId": "c2a0da9d-9a19-4ca5-d8fc-abe2e5a8ad00"
      },
      "outputs": [
        {
          "output_type": "stream",
          "name": "stdout",
          "text": [
            "Index(['bdp', 'nis', 'nms', 'vle', 'dsy', 'dyc', 'c_y', 'syr', 'ssc', 'aec',\n",
            "       'unm', 'epm', 'fem', 'ebl', 'ite', 'eei', 'igc', 'tnn', 'nes', 'mat'],\n",
            "      dtype='object')\n",
            "['band_gap', 'nsites', 'nelements', 'volume', 'density', 'density_atomic', 'crystal_symmetry', 'symmetry_number', 'sides_abc', 'angles_abc', 'uncorrected_energy_per_atom', 'energy_per_atom', 'formation_energy_per_atom', 'energy_above_hull', 'is_stable', 'efermi', 'is_magnetic', 'total_magnetization', 'num_magnetic_sites', 'molecular_weight']\n"
          ]
        }
      ],
      "source": [
        "from collections import defaultdict\n",
        "\n",
        "def get_new_name(name, abbreviations_count):\n",
        "    if len(name) % 2 == 0:  # Si la longitud es par\n",
        "        middle_index = len(name) // 2 - 1\n",
        "    else:\n",
        "        middle_index = len(name) // 2\n",
        "    abbreviation = name[0] + name[middle_index] + name[-1]\n",
        "\n",
        "    # Si es la primera vez que aparece, agregamos '0'\n",
        "    # Si no, agregamos el siguiente número en la secuencia\n",
        "    count = abbreviations_count[abbreviation]\n",
        "    abbreviations_count[abbreviation] += 1\n",
        "    return abbreviation\n",
        "\n",
        "# Inicializamos un contador por defecto para realizar un seguimiento de las abreviaturas\n",
        "abbreviations_count = defaultdict(int)\n",
        "\n",
        "# Cambiando el nombre de las columnas\n",
        "df1 = df.copy()\n",
        "# Actualizamos la función get_new_name para que acepte el contador de abreviaturas\n",
        "df1.columns = [get_new_name(col, abbreviations_count) for col in df1.columns]\n",
        "\n",
        "print(df1.columns)\n",
        "print(df.columns.tolist())\n"
      ]
    },
    {
      "cell_type": "markdown",
      "source": [
        "**Realizamos la normalizacion de las variables**"
      ],
      "metadata": {
        "id": "w86aKTWQNNL_"
      }
    },
    {
      "cell_type": "code",
      "source": [
        "from sklearn.preprocessing import MinMaxScaler\n",
        "import pandas as pd\n",
        "\n",
        "# Crear una instancia de MinMaxScaler\n",
        "scaler = MinMaxScaler()\n",
        "\n",
        "# Normalizar todas las características del dataset\n",
        "df = pd.DataFrame(scaler.fit_transform(df), columns=df.columns)"
      ],
      "metadata": {
        "id": "lOWOunpYNTND"
      },
      "execution_count": null,
      "outputs": []
    },
    {
      "cell_type": "markdown",
      "metadata": {
        "id": "5X2mIyd94q0O"
      },
      "source": [
        "**Buscamos el mejor punto de corte para realizar el clustering usando el metodo de la silueta**"
      ]
    },
    {
      "cell_type": "code",
      "execution_count": null,
      "metadata": {
        "colab": {
          "base_uri": "https://localhost:8080/"
        },
        "id": "nKVfNfj_YsUe",
        "outputId": "5430c909-2e40-411f-85c9-0a653c84e7aa"
      },
      "outputs": [
        {
          "output_type": "stream",
          "name": "stdout",
          "text": [
            "Mejor valor de corte: 5 con coeficiente de silueta: 0.48308689816590533\n"
          ]
        }
      ],
      "source": [
        "from sklearn.metrics import silhouette_score\n",
        "from scipy.cluster.hierarchy import dendrogram, linkage, fcluster\n",
        "from numpy import corrcoef, transpose, arange\n",
        "\n",
        "from sklearn.preprocessing import MinMaxScaler\n",
        "scaler = MinMaxScaler()\n",
        "\n",
        "df_feat = transpose(df)\n",
        "\n",
        "features_norm = scaler.fit_transform(df_feat)\n",
        "\n",
        "Z = linkage(features_norm, 'ward')\n",
        "\n",
        "max_silhouette = -1\n",
        "best_cut = None\n",
        "\n",
        "# Probar diferentes valores de corte\n",
        "for t in arange(2, 20, 1):\n",
        "    labels = fcluster(Z, t, criterion='maxclust')\n",
        "    silhouette_avg = silhouette_score(features_norm, labels)\n",
        "    if silhouette_avg > max_silhouette:\n",
        "        max_silhouette = silhouette_avg\n",
        "        best_cut = t\n",
        "\n",
        "print(f\"Mejor valor de corte: {best_cut} con coeficiente de silueta: {max_silhouette}\")\n"
      ]
    },
    {
      "cell_type": "markdown",
      "source": [
        "**Aplicamos PCA (Principal Component Analysis) para reducir la dimensional del dataset y se utilizan solamente los dos primeros componentes principales para obtener la grafica bidimensional. Finalmente consideramos el mejor valor de corte y generamos el clustering jerarquico aglomerativo por medio del dataset transpuesto**"
      ],
      "metadata": {
        "id": "hiu4p5sKQ7pX"
      }
    },
    {
      "cell_type": "code",
      "execution_count": null,
      "metadata": {
        "colab": {
          "base_uri": "https://localhost:8080/",
          "height": 574
        },
        "id": "lJcLKyrHYTgo",
        "outputId": "ed32a94d-1b7e-4576-de85-b82d2520e03e"
      },
      "outputs": [
        {
          "output_type": "stream",
          "name": "stdout",
          "text": [
            "Index(['bdp', 'nis', 'nms', 'vle', 'dsy', 'dyc', 'c_y', 'syr', 'ssc', 'aec',\n",
            "       'unm', 'epm', 'fem', 'ebl', 'ite', 'eei', 'igc', 'tnn', 'nes', 'mat'],\n",
            "      dtype='object')\n"
          ]
        },
        {
          "output_type": "stream",
          "name": "stderr",
          "text": [
            "<ipython-input-48-3b828783f2bb>:21: ClusterWarning: scipy.cluster: The symmetric non-negative hollow observation matrix looks suspiciously like an uncondensed distance matrix\n",
            "  clusters = cluster.hierarchy.linkage(matdist, method='single')\n"
          ]
        },
        {
          "output_type": "display_data",
          "data": {
            "text/plain": [
              "<Figure size 640x480 with 1 Axes>"
            ],
            "image/png": "[encoded data removed]"
          },
          "metadata": {}
        }
      ],
      "source": [
        "import matplotlib.pyplot as plt\n",
        "from sklearn.cluster import DBSCAN\n",
        "from sklearn.decomposition import PCA\n",
        "from sklearn import preprocessing\n",
        "import numpy as np\n",
        "import sklearn.metrics\n",
        "from scipy import cluster\n",
        "\n",
        "\n",
        "df_feat = transpose(df1)\n",
        "estimator = PCA (n_components = 11)\n",
        "X_pca = estimator.fit_transform(features_norm)\n",
        "\n",
        "names = df_feat.index\n",
        "print(names)\n",
        "\n",
        "dist = sklearn.metrics.DistanceMetric.get_metric('euclidean')\n",
        "matdist = dist.pairwise(features_norm)\n",
        "\n",
        "cut = best_cut\n",
        "clusters = cluster.hierarchy.linkage(matdist, method='single')\n",
        "labels = cluster.hierarchy.fcluster(clusters, cut, criterion='distance')\n",
        "\n",
        "# Generando una lista de colores basada en las etiquetas únicas\n",
        "unique_labels = list(set(labels))\n",
        "colors = plt.cm.rainbow(np.linspace(0, 1, len(unique_labels)))\n",
        "\n",
        "# Creando un mapeo entre etiquetas y colores\n",
        "label_color_map = {label: color for label, color in zip(unique_labels, colors)}\n",
        "\n",
        "# Asignando colores a cada etiqueta\n",
        "label_colors = [label_color_map[label] for label in labels]\n",
        "\n",
        "# Plotting\n",
        "plt.scatter(X_pca[:, 0], X_pca[:, 1], c=label_colors, s=50)\n",
        "\n",
        "# Crear una lista de etiquetas para la leyenda basadas en las etiquetas únicas\n",
        "legend_labels = {}\n",
        "for i, label in enumerate(labels):\n",
        "    if label in legend_labels:\n",
        "        legend_labels[label].append(names[i][0:4])\n",
        "    else:\n",
        "        legend_labels[label] = [names[i][0:4]]\n",
        "\n",
        "legend_names = [', '.join(legend_labels[label]) for label in unique_labels]\n",
        "\n",
        "# Añadiendo la leyenda\n",
        "patches = [plt.Line2D([0], [0], marker='o', color='w', markerfacecolor=label_color_map[label], markersize=10)\n",
        "           for label in unique_labels]\n",
        "plt.legend(handles=patches, labels=legend_names, loc=(1.01, 0.00))\n",
        "plt.title('Clustering de características', fontsize=16, fontweight='bold', y=1.05)\n",
        "plt.grid()\n",
        "plt.savefig('clustering_caracteristicas.svg', format='svg', bbox_inches='tight')\n",
        "plt.show()\n",
        "\n"
      ]
    },
    {
      "cell_type": "code",
      "source": [
        "import cairosvg"
      ],
      "metadata": {
        "id": "y7Dxb0EbiFgP"
      },
      "execution_count": null,
      "outputs": []
    },
    {
      "cell_type": "code",
      "source": [
        "import cairosvg\n",
        "\n",
        "# Convert SVG to PDF with adjustable DPI\n",
        "svg_file = 'clustering_caracteristicas.svg'\n",
        "pdf_file = 'clustering_caracteristicas.pdf'\n",
        "dpi = 300  # Adjust DPI as needed\n",
        "\n",
        "# Convert SVG to PDF with specified DPI\n",
        "cairosvg.svg2pdf(url=svg_file, write_to=pdf_file, dpi=dpi)\n",
        "\n",
        "print(f\"Archivo PDF '{pdf_file}' creado con éxito.\")"
      ],
      "metadata": {
        "colab": {
          "base_uri": "https://localhost:8080/"
        },
        "id": "FbIWEATOiEeg",
        "outputId": "a004b6ad-7c6e-479e-e90a-416a4f9c865e"
      },
      "execution_count": null,
      "outputs": [
        {
          "output_type": "stream",
          "name": "stdout",
          "text": [
            "Archivo PDF 'clustering_caracteristicas.pdf' creado con éxito.\n"
          ]
        }
      ]
    }
  ],
  "metadata": {
    "colab": {
      "provenance": [],
      "include_colab_link": true
    },
    "kernelspec": {
      "display_name": "Python 3",
      "name": "python3"
    }
  },
  "nbformat": 4,
  "nbformat_minor": 0
}