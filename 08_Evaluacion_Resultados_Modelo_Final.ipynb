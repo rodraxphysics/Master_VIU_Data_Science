{
  "cells": [
    {
      "cell_type": "markdown",
      "metadata": {
        "id": "view-in-github",
        "colab_type": "text"
      },
      "source": [
        "<a href=\"https://colab.research.google.com/github/rodraxphysics/Master_VIU_Data_Science/blob/main/08_Evaluacion_Resultados_Modelo_Final.ipynb\" target=\"_parent\"><img src=\"https://colab.research.google.com/assets/colab-badge.svg\" alt=\"Open In Colab\"/></a>"
      ]
    },
    {
      "cell_type": "markdown",
      "metadata": {
        "id": "Ti5Wnz3cgkRD"
      },
      "source": [
        "## <center>  <center>\n",
        "## <center> Universidad Internacional de Valencia (VIU) <center>\n",
        "## <center> Trabajo Fin de Master (TFM) <center>\n",
        "\n",
        "\n",
        "---\n",
        "\n",
        "\n",
        "# <center> **Predicción de la magnitud de la banda prohibida (bandgap) en compuestos inorgánicos mediante técnicas de Machine Learning** <center>\n",
        "\n",
        "\n",
        "---\n",
        "\n",
        "\n",
        "\n",
        "**Titulación:** Máster en Big Data y Data Science\n",
        "\n",
        "**Alumno:** Rodrigo Eduardo Sandoval Brito\n",
        "\n",
        "**Director:** Jose Carlos González, PhD.\n",
        "\n",
        "\n",
        "\n",
        "---\n"
      ]
    },
    {
      "cell_type": "markdown",
      "source": [
        "## <center> **Evaluacion de resultados de Modelo Final** <center>"
      ],
      "metadata": {
        "id": "nLbDeZac_mzc"
      }
    },
    {
      "cell_type": "markdown",
      "metadata": {
        "id": "523Qmp4r2Puq"
      },
      "source": [
        "Comenzamos importando los 3 datasets proporcionados por DataDriven"
      ]
    },
    {
      "cell_type": "code",
      "execution_count": null,
      "metadata": {
        "id": "QcqAjsMIKluO"
      },
      "outputs": [],
      "source": [
        "# Imports generales\n",
        "import pandas as pd\n",
        "import io\n",
        "from google.colab import files\n",
        "import numpy as np\n",
        "import time\n",
        "\n",
        "def upload_files (index_fields=None):\n",
        "  uploaded = files.upload()\n",
        "  for fn in uploaded.keys():\n",
        "    print('User uploaded file \"{name}\" with length {length} bytes'.format(\n",
        "        name=fn, length=len(uploaded[fn])))\n",
        "    df = pd.read_csv(io.StringIO(uploaded[fn].decode('utf-8')), index_col = index_fields)\n",
        "\n",
        "  return df\n",
        "\n",
        "df = upload_files()"
      ]
    },
    {
      "cell_type": "markdown",
      "source": [
        "**Obtenemos una copia del dataset final ya que dataset utilizado por el algoritmo de regresion es distinto al dataset utilizado por el algoritmo de clasificacion, con la diferencia en que el bandgap es numerico en regresion y booleano en clasificacion**"
      ],
      "metadata": {
        "id": "DfYxmxKa_xfB"
      }
    },
    {
      "cell_type": "code",
      "source": [
        "df1=df.copy()"
      ],
      "metadata": {
        "id": "B-J7_HN0MdYN"
      },
      "execution_count": null,
      "outputs": []
    },
    {
      "cell_type": "markdown",
      "source": [
        "**Transformamos variable numerica del bandgap a booleana para aplicar los algoritmos de clasificacion**"
      ],
      "metadata": {
        "id": "N6tK42ye_ymJ"
      }
    },
    {
      "cell_type": "code",
      "source": [
        "df['band_gap'] = df['band_gap'].apply(lambda x: 1 if x != 0 else 0)"
      ],
      "metadata": {
        "id": "pFKl-UQfDIMM"
      },
      "execution_count": null,
      "outputs": []
    },
    {
      "cell_type": "markdown",
      "source": [
        "**Normalizacion de las caracteristicas y division de datos training y test en ratio 80/20**"
      ],
      "metadata": {
        "id": "nG57MDNu_4kx"
      }
    },
    {
      "cell_type": "code",
      "source": [
        "from sklearn.model_selection import train_test_split\n",
        "from sklearn.preprocessing import MinMaxScaler\n",
        "scaler = MinMaxScaler()\n",
        "\n",
        "selected_features = ['nsites', 'nelements', 'volume', 'density', 'density_atomic', 'crystal_symmetry', 'symmetry_number', 'sides_abc', 'angles_abc', 'uncorrected_energy_per_atom', 'energy_per_atom', 'formation_energy_per_atom', 'energy_above_hull', 'is_stable', 'efermi', 'is_magnetic', 'total_magnetization', 'num_magnetic_sites', 'molecular_weight', 'Ho_count', 'Ho_mass_ratio', 'Ti_count', 'Ti_mass_ratio', 'Lu_count', 'Lu_mass_ratio', 'Hf_count', 'Hf_mass_ratio', 'Cu_count', 'Cu_mass_ratio', 'Ga_count', 'Ga_mass_ratio', 'Ba_count', 'Ba_mass_ratio', 'Te_count', 'Te_mass_ratio', 'Au_count', 'Au_mass_ratio', 'Ce_count', 'Ce_mass_ratio', 'Pa_count', 'Pa_mass_ratio', 'Br_count', 'Br_mass_ratio', 'Gd_count', 'Gd_mass_ratio', 'Nb_count', 'Nb_mass_ratio', 'Dy_count', 'Dy_mass_ratio', 'Os_count', 'Os_mass_ratio', 'Nd_count', 'Nd_mass_ratio', 'Co_count', 'Co_mass_ratio', 'Zn_count', 'Zn_mass_ratio', 'Ni_count', 'Ni_mass_ratio', 'V_count', 'V_mass_ratio', 'Cd_count', 'Cd_mass_ratio', 'Hg_count', 'Hg_mass_ratio', 'La_count', 'La_mass_ratio', 'Cs_count', 'Cs_mass_ratio', 'B_count', 'B_mass_ratio', 'Ag_count', 'Ag_mass_ratio', 'Ru_count', 'Ru_mass_ratio', 'Ar_count', 'Ar_mass_ratio', 'Tb_count', 'Tb_mass_ratio', 'Y_count', 'Y_mass_ratio', 'Sn_count', 'Sn_mass_ratio', 'Fe_count', 'Fe_mass_ratio', 'Yb_count', 'Yb_mass_ratio', 'P_count', 'P_mass_ratio', 'Sb_count', 'Sb_mass_ratio', 'Er_count', 'Er_mass_ratio', 'Ir_count', 'Ir_mass_ratio', 'Th_count', 'Th_mass_ratio', 'Si_count', 'Si_mass_ratio', 'O_count', 'O_mass_ratio', 'F_count', 'F_mass_ratio', 'Na_count', 'Na_mass_ratio', 'Pr_count', 'Pr_mass_ratio', 'N_count', 'N_mass_ratio', 'Mo_count', 'Mo_mass_ratio', 'Se_count', 'Se_mass_ratio', 'Kr_count', 'Kr_mass_ratio', 'Tl_count', 'Tl_mass_ratio', 'Mg_count', 'Mg_mass_ratio', 'Rb_count', 'Rb_mass_ratio', 'Ne_count', 'Ne_mass_ratio', 'Li_count', 'Li_mass_ratio', 'W_count', 'W_mass_ratio', 'Eu_count', 'Eu_mass_ratio', 'Al_count', 'Al_mass_ratio', 'Pm_count', 'Pm_mass_ratio', 'Sr_count', 'Sr_mass_ratio', 'Rh_count', 'Rh_mass_ratio', 'As_count', 'As_mass_ratio', 'Pt_count', 'Pt_mass_ratio', 'Cr_count', 'Cr_mass_ratio', 'Pd_count', 'Pd_mass_ratio', 'Tc_count', 'Tc_mass_ratio', 'I_count', 'I_mass_ratio', 'Sm_count', 'Sm_mass_ratio', 'Re_count', 'Re_mass_ratio', 'Ge_count', 'Ge_mass_ratio', 'Cl_count', 'Cl_mass_ratio', 'S_count', 'S_mass_ratio', 'U_count', 'U_mass_ratio', 'H_count', 'H_mass_ratio', 'Tm_count', 'Tm_mass_ratio', 'In_count', 'In_mass_ratio', 'K_count', 'K_mass_ratio', 'Bi_count', 'Bi_mass_ratio', 'Mn_count', 'Mn_mass_ratio', 'Ca_count', 'Ca_mass_ratio', 'Sc_count', 'Sc_mass_ratio', 'Pu_count', 'Pu_mass_ratio', 'Ac_count', 'Ac_mass_ratio', 'Be_count', 'Be_mass_ratio', 'Xe_count', 'Xe_mass_ratio', 'C_count', 'C_mass_ratio', 'He_count', 'He_mass_ratio', 'Zr_count', 'Zr_mass_ratio', 'Np_count', 'Np_mass_ratio', 'Ta_count', 'Ta_mass_ratio', 'Pb_count', 'Pb_mass_ratio']\n",
        "\n",
        "X=df[selected_features]\n",
        "y=df[\"band_gap\"]\n",
        "\n",
        "X_train, X_test, y_train, y_test = train_test_split(X, y, test_size=0.2, random_state=42)\n",
        "\n",
        "X_train = scaler.fit_transform(X_train)\n",
        "X_test = scaler.transform(X_test)\n",
        "\n",
        "print(X_test.shape)\n",
        "print(X_train.shape)\n",
        "print(y_train.shape)\n",
        "print(y_test.shape)"
      ],
      "metadata": {
        "colab": {
          "base_uri": "https://localhost:8080/"
        },
        "id": "zpMry2MWCz2U",
        "outputId": "2ad0a658-f7a4-45b3-c84c-8ef3ea198384"
      },
      "execution_count": null,
      "outputs": [
        {
          "output_type": "stream",
          "name": "stdout",
          "text": [
            "(5845, 197)\n",
            "(23377, 197)\n",
            "(23377,)\n",
            "(5845,)\n"
          ]
        }
      ]
    },
    {
      "cell_type": "markdown",
      "source": [
        "**Aplicamos el algoritmo de Clasificacion RFC con hiperparametros ya optimizados**"
      ],
      "metadata": {
        "id": "kfRd4RdgLtY-"
      }
    },
    {
      "cell_type": "code",
      "source": [
        "from sklearn.ensemble import RandomForestClassifier\n",
        "from sklearn.metrics import accuracy_score, confusion_matrix, classification_report\n",
        "from sklearn.metrics import roc_auc_score\n",
        "\n",
        "# Inicializar el clasificador de Random Forest\n",
        "best_params={'n_estimators': 681, 'min_samples_split': 4, 'min_samples_leaf': 1, 'max_features': 'log2', 'max_depth': 37, 'bootstrap': False}\n",
        "rf = RandomForestClassifier(**best_params,random_state=42)\n",
        "\n",
        "# Entrenar el modelo con el conjunto de entrenamiento\n",
        "rf.fit(X_train, y_train)\n",
        "\n",
        "# Realizar predicciones en el conjunto de prueba\n",
        "y_pred = rf.predict(X_test)\n",
        "\n",
        "# Calcular y mostrar la precisión del modelo\n",
        "accuracy = accuracy_score(y_test, y_pred)\n",
        "roc_auc = roc_auc_score(y_test, y_pred)\n",
        "\n",
        "print(\"Precisión del modelo en el conjunto de prueba:\", accuracy)\n",
        "\n",
        "# Mostrar la matriz de confusión\n",
        "print(\"Matriz de confusión:\\n\", confusion_matrix(y_test, y_pred))\n",
        "\n",
        "# Mostrar el informe de clasificación\n",
        "print(\"Informe de clasificación:\\n\", classification_report(y_test, y_pred))\n",
        "\n",
        "print(\"ROC-AUC:\", roc_auc)"
      ],
      "metadata": {
        "colab": {
          "base_uri": "https://localhost:8080/"
        },
        "id": "sm2AotbuM0fa",
        "outputId": "4d9c75d4-48f2-4245-f55a-fefd9477a428"
      },
      "execution_count": null,
      "outputs": [
        {
          "output_type": "stream",
          "name": "stdout",
          "text": [
            "Precisión del modelo en el conjunto de prueba: 0.9271171941830625\n",
            "Matriz de confusión:\n",
            " [[3056  236]\n",
            " [ 190 2363]]\n",
            "Informe de clasificación:\n",
            "               precision    recall  f1-score   support\n",
            "\n",
            "           0       0.94      0.93      0.93      3292\n",
            "           1       0.91      0.93      0.92      2553\n",
            "\n",
            "    accuracy                           0.93      5845\n",
            "   macro avg       0.93      0.93      0.93      5845\n",
            "weighted avg       0.93      0.93      0.93      5845\n",
            "\n"
          ]
        }
      ]
    },
    {
      "cell_type": "markdown",
      "source": [
        "**Separamos los valores de bandgap de cero para evaluarlos con RFC y los valores distintos de cero para evaluarlos con GBR**"
      ],
      "metadata": {
        "id": "Z5TtSsVHIche"
      }
    },
    {
      "cell_type": "code",
      "source": [
        "# Predecir con el clasificador\n",
        "y_pred_class = rf.predict(X_test)\n",
        "\n",
        "# Dividir X_test en dos partes\n",
        "X_test_zero = X_test[y_pred_class == 0]\n",
        "X_test_nonzero = X_test[y_pred_class != 0]\n",
        "\n",
        "# Para los valores cero, ya sabemos que el valor predicho es cero, entonces:\n",
        "y_pred_zero = np.zeros(X_test_zero.shape[0])"
      ],
      "metadata": {
        "id": "n-bqgDevId4L"
      },
      "execution_count": null,
      "outputs": []
    },
    {
      "cell_type": "markdown",
      "source": [
        "**Aplicamos el algoritmo de Regresion GBR con hiperparametros ya optimizados**"
      ],
      "metadata": {
        "id": "YwVuxVDmM4Tx"
      }
    },
    {
      "cell_type": "code",
      "source": [
        "df=df1.copy()"
      ],
      "metadata": {
        "id": "H88z9GLpM5th"
      },
      "execution_count": null,
      "outputs": []
    },
    {
      "cell_type": "code",
      "source": [
        "from sklearn.model_selection import train_test_split\n",
        "from sklearn.preprocessing import MinMaxScaler\n",
        "scaler = MinMaxScaler()\n",
        "\n",
        "selected_features = ['nsites', 'nelements', 'volume', 'density', 'density_atomic', 'crystal_symmetry', 'symmetry_number', 'sides_abc', 'angles_abc', 'uncorrected_energy_per_atom', 'energy_per_atom', 'formation_energy_per_atom', 'energy_above_hull', 'is_stable', 'efermi', 'is_magnetic', 'total_magnetization', 'num_magnetic_sites', 'molecular_weight', 'Ho_count', 'Ho_mass_ratio', 'Ti_count', 'Ti_mass_ratio', 'Lu_count', 'Lu_mass_ratio', 'Hf_count', 'Hf_mass_ratio', 'Cu_count', 'Cu_mass_ratio', 'Ga_count', 'Ga_mass_ratio', 'Ba_count', 'Ba_mass_ratio', 'Te_count', 'Te_mass_ratio', 'Au_count', 'Au_mass_ratio', 'Ce_count', 'Ce_mass_ratio', 'Pa_count', 'Pa_mass_ratio', 'Br_count', 'Br_mass_ratio', 'Gd_count', 'Gd_mass_ratio', 'Nb_count', 'Nb_mass_ratio', 'Dy_count', 'Dy_mass_ratio', 'Os_count', 'Os_mass_ratio', 'Nd_count', 'Nd_mass_ratio', 'Co_count', 'Co_mass_ratio', 'Zn_count', 'Zn_mass_ratio', 'Ni_count', 'Ni_mass_ratio', 'V_count', 'V_mass_ratio', 'Cd_count', 'Cd_mass_ratio', 'Hg_count', 'Hg_mass_ratio', 'La_count', 'La_mass_ratio', 'Cs_count', 'Cs_mass_ratio', 'B_count', 'B_mass_ratio', 'Ag_count', 'Ag_mass_ratio', 'Ru_count', 'Ru_mass_ratio', 'Ar_count', 'Ar_mass_ratio', 'Tb_count', 'Tb_mass_ratio', 'Y_count', 'Y_mass_ratio', 'Sn_count', 'Sn_mass_ratio', 'Fe_count', 'Fe_mass_ratio', 'Yb_count', 'Yb_mass_ratio', 'P_count', 'P_mass_ratio', 'Sb_count', 'Sb_mass_ratio', 'Er_count', 'Er_mass_ratio', 'Ir_count', 'Ir_mass_ratio', 'Th_count', 'Th_mass_ratio', 'Si_count', 'Si_mass_ratio', 'O_count', 'O_mass_ratio', 'F_count', 'F_mass_ratio', 'Na_count', 'Na_mass_ratio', 'Pr_count', 'Pr_mass_ratio', 'N_count', 'N_mass_ratio', 'Mo_count', 'Mo_mass_ratio', 'Se_count', 'Se_mass_ratio', 'Kr_count', 'Kr_mass_ratio', 'Tl_count', 'Tl_mass_ratio', 'Mg_count', 'Mg_mass_ratio', 'Rb_count', 'Rb_mass_ratio', 'Ne_count', 'Ne_mass_ratio', 'Li_count', 'Li_mass_ratio', 'W_count', 'W_mass_ratio', 'Eu_count', 'Eu_mass_ratio', 'Al_count', 'Al_mass_ratio', 'Pm_count', 'Pm_mass_ratio', 'Sr_count', 'Sr_mass_ratio', 'Rh_count', 'Rh_mass_ratio', 'As_count', 'As_mass_ratio', 'Pt_count', 'Pt_mass_ratio', 'Cr_count', 'Cr_mass_ratio', 'Pd_count', 'Pd_mass_ratio', 'Tc_count', 'Tc_mass_ratio', 'I_count', 'I_mass_ratio', 'Sm_count', 'Sm_mass_ratio', 'Re_count', 'Re_mass_ratio', 'Ge_count', 'Ge_mass_ratio', 'Cl_count', 'Cl_mass_ratio', 'S_count', 'S_mass_ratio', 'U_count', 'U_mass_ratio', 'H_count', 'H_mass_ratio', 'Tm_count', 'Tm_mass_ratio', 'In_count', 'In_mass_ratio', 'K_count', 'K_mass_ratio', 'Bi_count', 'Bi_mass_ratio', 'Mn_count', 'Mn_mass_ratio', 'Ca_count', 'Ca_mass_ratio', 'Sc_count', 'Sc_mass_ratio', 'Pu_count', 'Pu_mass_ratio', 'Ac_count', 'Ac_mass_ratio', 'Be_count', 'Be_mass_ratio', 'Xe_count', 'Xe_mass_ratio', 'C_count', 'C_mass_ratio', 'He_count', 'He_mass_ratio', 'Zr_count', 'Zr_mass_ratio', 'Np_count', 'Np_mass_ratio', 'Ta_count', 'Ta_mass_ratio', 'Pb_count', 'Pb_mass_ratio']\n",
        "\n",
        "X=df[selected_features]\n",
        "y=df[\"band_gap\"]\n",
        "\n",
        "X_train, X_test, y_train, y_test = train_test_split(X, y, test_size=0.2, random_state=42)\n",
        "\n",
        "X_train = scaler.fit_transform(X_train)\n",
        "X_test = scaler.transform(X_test)\n",
        "\n",
        "print(X_test.shape)\n",
        "print(X_train.shape)\n",
        "print(y_train.shape)\n",
        "print(y_test.shape)"
      ],
      "metadata": {
        "colab": {
          "base_uri": "https://localhost:8080/"
        },
        "id": "NrQKK_zoNyBS",
        "outputId": "ea725cd0-1793-48eb-d831-b190fce732e7"
      },
      "execution_count": null,
      "outputs": [
        {
          "output_type": "stream",
          "name": "stdout",
          "text": [
            "(5845, 197)\n",
            "(23377, 197)\n",
            "(23377,)\n",
            "(5845,)\n"
          ]
        }
      ]
    },
    {
      "cell_type": "code",
      "source": [
        "from sklearn.ensemble import GradientBoostingRegressor\n",
        "from sklearn.model_selection import train_test_split\n",
        "from sklearn.preprocessing import MinMaxScaler\n",
        "from sklearn.metrics import r2_score\n",
        "from sklearn.metrics import mean_absolute_error\n",
        "import numpy as np\n",
        "\n",
        "# Modelos con hiperparámetros específicos\n",
        "gb_parameters ={'learning_rate': 0.05, 'max_depth': 10, 'max_features': 'sqrt', 'min_samples_leaf': 4, 'min_samples_split': 10, 'n_estimators': 620, 'subsample': 0.99}\n",
        "gb_model = GradientBoostingRegressor(**gb_parameters, random_state=42)\n",
        "\n",
        "# Entrenamiento\n",
        "gb_model.fit(X_train, y_train)\n",
        "\n",
        "# Predicciones individuales\n",
        "y_pred_gb = gb_model.predict(X_test)\n",
        "\n",
        "# Evaluación individual\n",
        "r2_gb = r2_score(y_test, y_pred_gb)\n",
        "\n",
        "# Evaluación del ensemble\n",
        "mae_gb= mean_absolute_error(y_test, y_pred_gb)\n",
        "\n",
        "# Mostrar las métricas\n",
        "print(\"R² Gradient Boosting:\", r2_gb)\n",
        "print(\"MAE Gradient Boosting:\", mae_gb)\n"
      ],
      "metadata": {
        "colab": {
          "base_uri": "https://localhost:8080/"
        },
        "id": "qcMFASIx1oEf",
        "outputId": "1ed1500a-cb15-4341-bdf7-dda5c473ffa8"
      },
      "execution_count": null,
      "outputs": [
        {
          "output_type": "stream",
          "name": "stdout",
          "text": [
            "R² Gradient Boosting: 0.8892974667211315\n",
            "MAE Gradient Boosting: 0.30202681798443304\n"
          ]
        }
      ]
    },
    {
      "cell_type": "markdown",
      "source": [
        "**Combinamos las predicciones de ambos modelos, cuando bandgap es igual a cero utilizamos RFC y cuando es distinto de cero usamos GBR**"
      ],
      "metadata": {
        "id": "dQWPJ4jgAUIv"
      }
    },
    {
      "cell_type": "code",
      "source": [
        "#Predecir los valores no cero con el modelo de regresión\n",
        "y_pred_nonzero = gb_model.predict(X_test_nonzero)\n",
        "\n",
        "# Primero, crea un array vacío para almacenar las predicciones finales\n",
        "y_pred_final = np.empty(X_test.shape[0])\n",
        "\n",
        "# Rellena el array con las predicciones de cero\n",
        "y_pred_final[y_pred_class == 0] = y_pred_zero\n",
        "\n",
        "# Rellena el resto con las predicciones de no cero\n",
        "y_pred_final[y_pred_class != 0] = y_pred_nonzero"
      ],
      "metadata": {
        "id": "kcIXxkvPQLMn"
      },
      "execution_count": null,
      "outputs": []
    },
    {
      "cell_type": "markdown",
      "source": [
        "**Evaluamos las predicciones en dataset de test y observamos que modelo final presenta coeficiente de determinacion de 0.89 y MAE de 0.25**"
      ],
      "metadata": {
        "id": "BV9mq9L2AhP6"
      }
    },
    {
      "cell_type": "code",
      "source": [
        "from sklearn.metrics import mean_squared_error\n",
        "\n",
        "r2_ensemble = r2_score(y_test, y_pred_final)\n",
        "mae_ensamble= mean_absolute_error(y_test, y_pred_final)\n",
        "rmse_ensemble = np.sqrt(mean_squared_error(y_test, y_pred_final))\n",
        "\n",
        "# Mostrar las métricas\n",
        "print(\"R² Ensemble (Random Forest + Gradient Boosting):\", r2_ensemble)\n",
        "print(\"MAE Ensemble (Random Forest + Gradient Boosting):\", mae_ensamble)\n",
        "print(\"RMSE Ensemble (Random Forest + Gradient Boosting):\", rmse_ensemble)"
      ],
      "metadata": {
        "colab": {
          "base_uri": "https://localhost:8080/"
        },
        "id": "MMj7B1guNKMH",
        "outputId": "0fba7f28-4a82-4920-95d8-881bddd10f9b"
      },
      "execution_count": null,
      "outputs": [
        {
          "output_type": "stream",
          "name": "stdout",
          "text": [
            "R² Ensemble (Random Forest + Gradient Boosting): 0.8913345029112099\n",
            "MAE Ensemble (Random Forest + Gradient Boosting): 0.25904640278456564\n",
            "RMSE Ensemble (Random Forest + Gradient Boosting): 0.5278919244707677\n"
          ]
        }
      ]
    },
    {
      "cell_type": "markdown",
      "source": [
        "**R² de modelo final**: 0.8913345029112099\n",
        "\n",
        "**MAE de modelo final:**  0.25904640278456564"
      ],
      "metadata": {
        "id": "Fa3DIrIEAojl"
      }
    },
    {
      "cell_type": "markdown",
      "source": [
        "**Evaluamos las predicciones del modelo final**"
      ],
      "metadata": {
        "id": "BNwOrFyWAze6"
      }
    },
    {
      "cell_type": "code",
      "source": [
        "import pandas as pd\n",
        "formatted_predictions = [max(round(prediction, 4), 0) for prediction in y_pred_final]\n",
        "\n",
        "df_visualization = pd.DataFrame({\n",
        "    'y_real': y_test[100:130].values,\n",
        "    'y_pred': formatted_predictions[100:130]\n",
        "})\n",
        "\n",
        "print(df_visualization)"
      ],
      "metadata": {
        "colab": {
          "base_uri": "https://localhost:8080/"
        },
        "id": "zJVErdspweRU",
        "outputId": "d05a1be5-4e79-42fc-b8c5-f76589c6134e"
      },
      "execution_count": null,
      "outputs": [
        {
          "output_type": "stream",
          "name": "stdout",
          "text": [
            "    y_real  y_pred\n",
            "0   8.0448  7.4473\n",
            "1   0.0000  0.0000\n",
            "2   0.0000  0.0000\n",
            "3   4.2353  3.6754\n",
            "4   0.0000  0.2133\n",
            "5   2.9492  1.8457\n",
            "6   0.0000  0.0000\n",
            "7   0.0000  0.0000\n",
            "8   2.8210  1.9941\n",
            "9   3.8866  3.0316\n",
            "10  1.5858  0.9219\n",
            "11  0.1950  0.4538\n",
            "12  0.0000  0.0000\n",
            "13  3.3844  2.4757\n",
            "14  0.0000  0.0000\n",
            "15  2.3958  1.6782\n",
            "16  1.1346  0.7680\n",
            "17  5.3288  4.1602\n",
            "18  0.0000  0.0000\n",
            "19  0.0000  0.0000\n",
            "20  0.0000  0.0000\n",
            "21  0.0000  0.0000\n",
            "22  0.0000  0.0000\n",
            "23  0.0000  0.0000\n",
            "24  3.2641  3.0055\n",
            "25  0.0000  0.0000\n",
            "26  1.6437  0.8718\n",
            "27  4.0182  3.7860\n",
            "28  3.3909  2.7840\n",
            "29  0.0000  0.0000\n"
          ]
        }
      ]
    },
    {
      "cell_type": "markdown",
      "source": [
        "**Generamos grafico de comparacion de valores reales y predichos por modelo final para 30 predicciones del dataset de testing**"
      ],
      "metadata": {
        "id": "FLzfxHneBXo8"
      }
    },
    {
      "cell_type": "code",
      "source": [
        "import pandas as pd\n",
        "import matplotlib.pyplot as plt\n",
        "\n",
        "# Crear un gráfico de líneas\n",
        "plt.plot(df_visualization['y_real'], label='y_real', marker='o')\n",
        "plt.plot(df_visualization['y_pred'], label='y_pred', marker='o')\n",
        "\n",
        "# Agregar etiquetas y título\n",
        "plt.ylabel('Band Gap (eV)')\n",
        "plt.title('Primeras 30 predicciones del modelo ensamble (RFC+GBR)')\n",
        "#plt.ylim(0, 7)\n",
        "# Agregar leyenda\n",
        "plt.legend()\n",
        "\n",
        "# Mostrar el recuadro con las etiquetas \"y_real\" y \"y_pred\"\n",
        "plt.legend(loc='upper right', bbox_to_anchor=(1,1))\n",
        "\n",
        "# Mostrar el gráfico\n",
        "\n",
        "plt.savefig('predicciones_modelo_final.svg', format='svg', bbox_inches='tight')\n",
        "\n",
        "plt.show()"
      ],
      "metadata": {
        "colab": {
          "base_uri": "https://localhost:8080/",
          "height": 452
        },
        "id": "UyT5AEbrKaB6",
        "outputId": "c2a3a712-c37a-4732-9ec2-834a55fa5b00"
      },
      "execution_count": null,
      "outputs": [
        {
          "output_type": "display_data",
          "data": {
            "text/plain": [
              "<Figure size 640x480 with 1 Axes>"
            ],
            "image/png": "[encoded data removed]"
          },
          "metadata": {}
        }
      ]
    },
    {
      "cell_type": "code",
      "source": [
        "pip install cairosvg"
      ],
      "metadata": {
        "colab": {
          "base_uri": "https://localhost:8080/"
        },
        "id": "dByPKRrKi7xg",
        "outputId": "6450c916-4d4b-4053-afe8-b0a77bd432d0"
      },
      "execution_count": null,
      "outputs": [
        {
          "output_type": "stream",
          "name": "stdout",
          "text": [
            "Collecting cairosvg\n",
            "  Downloading CairoSVG-2.7.1-py3-none-any.whl (43 kB)\n",
            "\u001b[2K     \u001b[90m━━━━━━━━━━━━━━━━━━━━━━━━━━━━━━━━━━━━━━━━\u001b[0m \u001b[32m43.2/43.2 kB\u001b[0m \u001b[31m523.2 kB/s\u001b[0m eta \u001b[36m0:00:00\u001b[0m\n",
            "\u001b[?25hCollecting cairocffi (from cairosvg)\n",
            "  Downloading cairocffi-1.6.1-py3-none-any.whl (75 kB)\n",
            "\u001b[2K     \u001b[90m━━━━━━━━━━━━━━━━━━━━━━━━━━━━━━━━━━━━━━━━\u001b[0m \u001b[32m75.1/75.1 kB\u001b[0m \u001b[31m1.5 MB/s\u001b[0m eta \u001b[36m0:00:00\u001b[0m\n",
            "\u001b[?25hCollecting cssselect2 (from cairosvg)\n",
            "  Downloading cssselect2-0.7.0-py3-none-any.whl (15 kB)\n",
            "Requirement already satisfied: defusedxml in /usr/local/lib/python3.10/dist-packages (from cairosvg) (0.7.1)\n",
            "Requirement already satisfied: pillow in /usr/local/lib/python3.10/dist-packages (from cairosvg) (9.4.0)\n",
            "Requirement already satisfied: tinycss2 in /usr/local/lib/python3.10/dist-packages (from cairosvg) (1.2.1)\n",
            "Requirement already satisfied: cffi>=1.1.0 in /usr/local/lib/python3.10/dist-packages (from cairocffi->cairosvg) (1.16.0)\n",
            "Requirement already satisfied: webencodings in /usr/local/lib/python3.10/dist-packages (from cssselect2->cairosvg) (0.5.1)\n",
            "Requirement already satisfied: pycparser in /usr/local/lib/python3.10/dist-packages (from cffi>=1.1.0->cairocffi->cairosvg) (2.21)\n",
            "Installing collected packages: cssselect2, cairocffi, cairosvg\n",
            "Successfully installed cairocffi-1.6.1 cairosvg-2.7.1 cssselect2-0.7.0\n"
          ]
        }
      ]
    },
    {
      "cell_type": "code",
      "source": [
        "import cairosvg\n",
        "# Convert SVG to PDF with adjustable DPI\n",
        "svg_file = 'predicciones_modelo_final.svg'\n",
        "pdf_file = 'predicciones_modelo_final.pdf'\n",
        "dpi = 300  # Adjust DPI as needed\n",
        "\n",
        "# Convert SVG to PDF with specified DPI\n",
        "cairosvg.svg2pdf(url=svg_file, write_to=pdf_file, dpi=dpi)\n",
        "\n",
        "print(f\"Archivo PDF '{pdf_file}' creado con éxito.\")"
      ],
      "metadata": {
        "colab": {
          "base_uri": "https://localhost:8080/"
        },
        "id": "MJAMvD1vi7Ta",
        "outputId": "b9ede761-e543-4d2f-bb52-050e003cb8e4"
      },
      "execution_count": null,
      "outputs": [
        {
          "output_type": "stream",
          "name": "stdout",
          "text": [
            "Archivo PDF 'predicciones_modelo_final.pdf' creado con éxito.\n"
          ]
        }
      ]
    }
  ],
  "metadata": {
    "colab": {
      "provenance": [],
      "include_colab_link": true
    },
    "kernelspec": {
      "display_name": "Python 3",
      "name": "python3"
    }
  },
  "nbformat": 4,
  "nbformat_minor": 0
}