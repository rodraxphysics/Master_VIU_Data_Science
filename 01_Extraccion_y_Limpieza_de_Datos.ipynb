{
  "cells": [
    {
      "cell_type": "markdown",
      "metadata": {
        "id": "view-in-github",
        "colab_type": "text"
      },
      "source": [
        "<a href=\"https://colab.research.google.com/github/rodraxphysics/Master_VIU_Data_Science/blob/main/01_Extraccion_y_Limpieza_de_Datos.ipynb\" target=\"_parent\"><img src=\"https://colab.research.google.com/assets/colab-badge.svg\" alt=\"Open In Colab\"/></a>"
      ]
    },
    {
      "cell_type": "markdown",
      "source": [
        "## <center>  <center>\n",
        "## <center> Universidad Internacional de Valencia (VIU) <center>\n",
        "## <center> Trabajo Fin de Master (TFM) <center>\n",
        "\n",
        "\n",
        "---\n",
        "\n",
        "\n",
        "# <center> **Predicción de la magnitud de la banda prohibida (bandgap) en compuestos inorgánicos mediante técnicas de Machine Learning** <center>\n",
        "\n",
        "\n",
        "---\n",
        "\n",
        "\n",
        "\n",
        "**Titulación:** Máster en Big Data y Data Science\n",
        "\n",
        "**Alumno:** Rodrigo Eduardo Sandoval Brito\n",
        "\n",
        "**Director:** Jose Carlos González, PhD.\n",
        "\n",
        "\n",
        "\n",
        "---"
      ],
      "metadata": {
        "id": "ngjCVk4jT5M2"
      }
    },
    {
      "cell_type": "markdown",
      "source": [
        "## <center> **Extraccion y Limpieza de los datos obtenidos desde API de Materials Project** <center>"
      ],
      "metadata": {
        "id": "l84LjmeFT6Md"
      }
    },
    {
      "cell_type": "markdown",
      "metadata": {
        "id": "QarzoDK7iW84"
      },
      "source": [
        "**Instalamos las librerias dependientes necesarias para la importacion de los datos**"
      ]
    },
    {
      "cell_type": "code",
      "execution_count": null,
      "metadata": {
        "colab": {
          "base_uri": "https://localhost:8080/"
        },
        "id": "hfFqf4zGS6Xt",
        "outputId": "db344f73-cd75-4534-d10a-1fcdd83d84bc"
      },
      "outputs": [
        {
          "output_type": "stream",
          "name": "stdout",
          "text": [
            "Collecting fastapi\n",
            "  Downloading fastapi-0.109.1-py3-none-any.whl (92 kB)\n",
            "\u001b[2K     \u001b[90m━━━━━━━━━━━━━━━━━━━━━━━━━━━━━━━━━━━━━━━━\u001b[0m \u001b[32m92.1/92.1 kB\u001b[0m \u001b[31m1.5 MB/s\u001b[0m eta \u001b[36m0:00:00\u001b[0m\n",
            "\u001b[?25hCollecting kaleido\n",
            "  Downloading kaleido-0.2.1-py2.py3-none-manylinux1_x86_64.whl (79.9 MB)\n",
            "\u001b[2K     \u001b[90m━━━━━━━━━━━━━━━━━━━━━━━━━━━━━━━━━━━━━━━━\u001b[0m \u001b[32m79.9/79.9 MB\u001b[0m \u001b[31m18.0 MB/s\u001b[0m eta \u001b[36m0:00:00\u001b[0m\n",
            "\u001b[?25hCollecting python-multipart\n",
            "  Downloading python_multipart-0.0.7-py3-none-any.whl (22 kB)\n",
            "Collecting uvicorn\n",
            "  Downloading uvicorn-0.27.0.post1-py3-none-any.whl (60 kB)\n",
            "\u001b[2K     \u001b[90m━━━━━━━━━━━━━━━━━━━━━━━━━━━━━━━━━━━━━━━━\u001b[0m \u001b[32m60.7/60.7 kB\u001b[0m \u001b[31m7.0 MB/s\u001b[0m eta \u001b[36m0:00:00\u001b[0m\n",
            "\u001b[?25hRequirement already satisfied: pydantic!=1.8,!=1.8.1,!=2.0.0,!=2.0.1,!=2.1.0,<3.0.0,>=1.7.4 in /usr/local/lib/python3.10/dist-packages (from fastapi) (1.10.14)\n",
            "Collecting starlette<0.36.0,>=0.35.0 (from fastapi)\n",
            "  Downloading starlette-0.35.1-py3-none-any.whl (71 kB)\n",
            "\u001b[2K     \u001b[90m━━━━━━━━━━━━━━━━━━━━━━━━━━━━━━━━━━━━━━━━\u001b[0m \u001b[32m71.1/71.1 kB\u001b[0m \u001b[31m7.8 MB/s\u001b[0m eta \u001b[36m0:00:00\u001b[0m\n",
            "\u001b[?25hCollecting typing-extensions>=4.8.0 (from fastapi)\n",
            "  Downloading typing_extensions-4.9.0-py3-none-any.whl (32 kB)\n",
            "Requirement already satisfied: click>=7.0 in /usr/local/lib/python3.10/dist-packages (from uvicorn) (8.1.7)\n",
            "Collecting h11>=0.8 (from uvicorn)\n",
            "  Downloading h11-0.14.0-py3-none-any.whl (58 kB)\n",
            "\u001b[2K     \u001b[90m━━━━━━━━━━━━━━━━━━━━━━━━━━━━━━━━━━━━━━━━\u001b[0m \u001b[32m58.3/58.3 kB\u001b[0m \u001b[31m7.3 MB/s\u001b[0m eta \u001b[36m0:00:00\u001b[0m\n",
            "\u001b[?25hRequirement already satisfied: anyio<5,>=3.4.0 in /usr/local/lib/python3.10/dist-packages (from starlette<0.36.0,>=0.35.0->fastapi) (3.7.1)\n",
            "Requirement already satisfied: idna>=2.8 in /usr/local/lib/python3.10/dist-packages (from anyio<5,>=3.4.0->starlette<0.36.0,>=0.35.0->fastapi) (3.6)\n",
            "Requirement already satisfied: sniffio>=1.1 in /usr/local/lib/python3.10/dist-packages (from anyio<5,>=3.4.0->starlette<0.36.0,>=0.35.0->fastapi) (1.3.0)\n",
            "Requirement already satisfied: exceptiongroup in /usr/local/lib/python3.10/dist-packages (from anyio<5,>=3.4.0->starlette<0.36.0,>=0.35.0->fastapi) (1.2.0)\n",
            "Installing collected packages: kaleido, typing-extensions, python-multipart, h11, uvicorn, starlette, fastapi\n",
            "  Attempting uninstall: typing-extensions\n",
            "    Found existing installation: typing_extensions 4.5.0\n",
            "    Uninstalling typing_extensions-4.5.0:\n",
            "      Successfully uninstalled typing_extensions-4.5.0\n",
            "\u001b[31mERROR: pip's dependency resolver does not currently take into account all the packages that are installed. This behaviour is the source of the following dependency conflicts.\n",
            "tensorflow-probability 0.22.0 requires typing-extensions<4.6.0, but you have typing-extensions 4.9.0 which is incompatible.\u001b[0m\u001b[31m\n",
            "\u001b[0mSuccessfully installed fastapi-0.109.1 h11-0.14.0 kaleido-0.2.1 python-multipart-0.0.7 starlette-0.35.1 typing-extensions-4.9.0 uvicorn-0.27.0.post1\n"
          ]
        }
      ],
      "source": [
        "!pip install fastapi kaleido python-multipart uvicorn\n"
      ]
    },
    {
      "cell_type": "code",
      "execution_count": null,
      "metadata": {
        "colab": {
          "base_uri": "https://localhost:8080/"
        },
        "id": "zJuDMqFaS5-w",
        "outputId": "d623c87f-eff2-415c-ca12-59d9fa8bc1c3"
      },
      "outputs": [
        {
          "output_type": "stream",
          "name": "stdout",
          "text": [
            "Requirement already satisfied: lida in /usr/local/lib/python3.10/dist-packages (0.0.10)\n",
            "Collecting lida\n",
            "  Downloading lida-0.0.11-py3-none-any.whl (7.3 MB)\n",
            "\u001b[2K     \u001b[90m━━━━━━━━━━━━━━━━━━━━━━━━━━━━━━━━━━━━━━━━\u001b[0m \u001b[32m7.3/7.3 MB\u001b[0m \u001b[31m22.0 MB/s\u001b[0m eta \u001b[36m0:00:00\u001b[0m\n",
            "\u001b[?25hCollecting llmx>=0.0.18a (from lida)\n",
            "  Downloading llmx-0.0.18a0-py3-none-any.whl (19 kB)\n",
            "Requirement already satisfied: pydantic in /usr/local/lib/python3.10/dist-packages (from lida) (1.10.14)\n",
            "Requirement already satisfied: uvicorn in /usr/local/lib/python3.10/dist-packages (from lida) (0.27.0.post1)\n",
            "Requirement already satisfied: typer in /usr/local/lib/python3.10/dist-packages (from lida) (0.9.0)\n",
            "Requirement already satisfied: fastapi in /usr/local/lib/python3.10/dist-packages (from lida) (0.109.1)\n",
            "Requirement already satisfied: python-multipart in /usr/local/lib/python3.10/dist-packages (from lida) (0.0.7)\n",
            "Requirement already satisfied: scipy in /usr/local/lib/python3.10/dist-packages (from lida) (1.11.4)\n",
            "Requirement already satisfied: numpy in /usr/local/lib/python3.10/dist-packages (from lida) (1.23.5)\n",
            "Requirement already satisfied: pandas in /usr/local/lib/python3.10/dist-packages (from lida) (1.5.3)\n",
            "Requirement already satisfied: matplotlib in /usr/local/lib/python3.10/dist-packages (from lida) (3.7.1)\n",
            "Requirement already satisfied: altair in /usr/local/lib/python3.10/dist-packages (from lida) (4.2.2)\n",
            "Requirement already satisfied: seaborn in /usr/local/lib/python3.10/dist-packages (from lida) (0.13.1)\n",
            "Requirement already satisfied: plotly in /usr/local/lib/python3.10/dist-packages (from lida) (5.15.0)\n",
            "Requirement already satisfied: plotnine in /usr/local/lib/python3.10/dist-packages (from lida) (0.12.4)\n",
            "Requirement already satisfied: statsmodels in /usr/local/lib/python3.10/dist-packages (from lida) (0.14.1)\n",
            "Requirement already satisfied: networkx in /usr/local/lib/python3.10/dist-packages (from lida) (3.2.1)\n",
            "Requirement already satisfied: geopandas in /usr/local/lib/python3.10/dist-packages (from lida) (0.13.2)\n",
            "Requirement already satisfied: matplotlib-venn in /usr/local/lib/python3.10/dist-packages (from lida) (0.11.10)\n",
            "Requirement already satisfied: wordcloud in /usr/local/lib/python3.10/dist-packages (from lida) (1.9.3)\n",
            "Requirement already satisfied: kaleido in /usr/local/lib/python3.10/dist-packages (from lida) (0.2.1)\n",
            "Collecting openai==0.28.1 (from llmx>=0.0.18a->lida)\n",
            "  Downloading openai-0.28.1-py3-none-any.whl (76 kB)\n",
            "\u001b[2K     \u001b[90m━━━━━━━━━━━━━━━━━━━━━━━━━━━━━━━━━━━━━━━━\u001b[0m \u001b[32m77.0/77.0 kB\u001b[0m \u001b[31m9.2 MB/s\u001b[0m eta \u001b[36m0:00:00\u001b[0m\n",
            "\u001b[?25hCollecting tiktoken (from llmx>=0.0.18a->lida)\n",
            "  Downloading tiktoken-0.5.2-cp310-cp310-manylinux_2_17_x86_64.manylinux2014_x86_64.whl (2.0 MB)\n",
            "\u001b[2K     \u001b[90m━━━━━━━━━━━━━━━━━━━━━━━━━━━━━━━━━━━━━━━━\u001b[0m \u001b[32m2.0/2.0 MB\u001b[0m \u001b[31m76.0 MB/s\u001b[0m eta \u001b[36m0:00:00\u001b[0m\n",
            "\u001b[?25hRequirement already satisfied: diskcache in /usr/local/lib/python3.10/dist-packages (from llmx>=0.0.18a->lida) (5.6.3)\n",
            "Collecting cohere (from llmx>=0.0.18a->lida)\n",
            "  Downloading cohere-4.45-py3-none-any.whl (52 kB)\n",
            "\u001b[2K     \u001b[90m━━━━━━━━━━━━━━━━━━━━━━━━━━━━━━━━━━━━━━━━\u001b[0m \u001b[32m52.1/52.1 kB\u001b[0m \u001b[31m6.8 MB/s\u001b[0m eta \u001b[36m0:00:00\u001b[0m\n",
            "\u001b[?25hRequirement already satisfied: google.auth in /usr/local/lib/python3.10/dist-packages (from llmx>=0.0.18a->lida) (2.17.3)\n",
            "Requirement already satisfied: pyyaml in /usr/local/lib/python3.10/dist-packages (from llmx>=0.0.18a->lida) (6.0.1)\n",
            "Requirement already satisfied: requests>=2.20 in /usr/local/lib/python3.10/dist-packages (from openai==0.28.1->llmx>=0.0.18a->lida) (2.31.0)\n",
            "Requirement already satisfied: tqdm in /usr/local/lib/python3.10/dist-packages (from openai==0.28.1->llmx>=0.0.18a->lida) (4.66.1)\n",
            "Requirement already satisfied: aiohttp in /usr/local/lib/python3.10/dist-packages (from openai==0.28.1->llmx>=0.0.18a->lida) (3.9.3)\n",
            "Requirement already satisfied: entrypoints in /usr/local/lib/python3.10/dist-packages (from altair->lida) (0.4)\n",
            "Requirement already satisfied: jinja2 in /usr/local/lib/python3.10/dist-packages (from altair->lida) (3.1.3)\n",
            "Requirement already satisfied: jsonschema>=3.0 in /usr/local/lib/python3.10/dist-packages (from altair->lida) (4.19.2)\n",
            "Requirement already satisfied: toolz in /usr/local/lib/python3.10/dist-packages (from altair->lida) (0.12.1)\n",
            "Requirement already satisfied: python-dateutil>=2.8.1 in /usr/local/lib/python3.10/dist-packages (from pandas->lida) (2.8.2)\n",
            "Requirement already satisfied: pytz>=2020.1 in /usr/local/lib/python3.10/dist-packages (from pandas->lida) (2023.4)\n",
            "Requirement already satisfied: starlette<0.36.0,>=0.35.0 in /usr/local/lib/python3.10/dist-packages (from fastapi->lida) (0.35.1)\n",
            "Requirement already satisfied: typing-extensions>=4.8.0 in /usr/local/lib/python3.10/dist-packages (from fastapi->lida) (4.9.0)\n",
            "Requirement already satisfied: fiona>=1.8.19 in /usr/local/lib/python3.10/dist-packages (from geopandas->lida) (1.9.5)\n",
            "Requirement already satisfied: packaging in /usr/local/lib/python3.10/dist-packages (from geopandas->lida) (23.2)\n",
            "Requirement already satisfied: pyproj>=3.0.1 in /usr/local/lib/python3.10/dist-packages (from geopandas->lida) (3.6.1)\n",
            "Requirement already satisfied: shapely>=1.7.1 in /usr/local/lib/python3.10/dist-packages (from geopandas->lida) (2.0.2)\n",
            "Requirement already satisfied: contourpy>=1.0.1 in /usr/local/lib/python3.10/dist-packages (from matplotlib->lida) (1.2.0)\n",
            "Requirement already satisfied: cycler>=0.10 in /usr/local/lib/python3.10/dist-packages (from matplotlib->lida) (0.12.1)\n",
            "Requirement already satisfied: fonttools>=4.22.0 in /usr/local/lib/python3.10/dist-packages (from matplotlib->lida) (4.47.2)\n",
            "Requirement already satisfied: kiwisolver>=1.0.1 in /usr/local/lib/python3.10/dist-packages (from matplotlib->lida) (1.4.5)\n",
            "Requirement already satisfied: pillow>=6.2.0 in /usr/local/lib/python3.10/dist-packages (from matplotlib->lida) (9.4.0)\n",
            "Requirement already satisfied: pyparsing>=2.3.1 in /usr/local/lib/python3.10/dist-packages (from matplotlib->lida) (3.1.1)\n",
            "Requirement already satisfied: tenacity>=6.2.0 in /usr/local/lib/python3.10/dist-packages (from plotly->lida) (8.2.3)\n",
            "Requirement already satisfied: mizani<0.10.0,>0.9.0 in /usr/local/lib/python3.10/dist-packages (from plotnine->lida) (0.9.3)\n",
            "Requirement already satisfied: patsy>=0.5.1 in /usr/local/lib/python3.10/dist-packages (from plotnine->lida) (0.5.6)\n",
            "Requirement already satisfied: click<9.0.0,>=7.1.1 in /usr/local/lib/python3.10/dist-packages (from typer->lida) (8.1.7)\n",
            "Requirement already satisfied: h11>=0.8 in /usr/local/lib/python3.10/dist-packages (from uvicorn->lida) (0.14.0)\n",
            "Requirement already satisfied: attrs>=19.2.0 in /usr/local/lib/python3.10/dist-packages (from fiona>=1.8.19->geopandas->lida) (23.2.0)\n",
            "Requirement already satisfied: certifi in /usr/local/lib/python3.10/dist-packages (from fiona>=1.8.19->geopandas->lida) (2023.11.17)\n",
            "Requirement already satisfied: click-plugins>=1.0 in /usr/local/lib/python3.10/dist-packages (from fiona>=1.8.19->geopandas->lida) (1.1.1)\n",
            "Requirement already satisfied: cligj>=0.5 in /usr/local/lib/python3.10/dist-packages (from fiona>=1.8.19->geopandas->lida) (0.7.2)\n",
            "Requirement already satisfied: six in /usr/local/lib/python3.10/dist-packages (from fiona>=1.8.19->geopandas->lida) (1.16.0)\n",
            "Requirement already satisfied: setuptools in /usr/local/lib/python3.10/dist-packages (from fiona>=1.8.19->geopandas->lida) (67.7.2)\n",
            "Requirement already satisfied: jsonschema-specifications>=2023.03.6 in /usr/local/lib/python3.10/dist-packages (from jsonschema>=3.0->altair->lida) (2023.12.1)\n",
            "Requirement already satisfied: referencing>=0.28.4 in /usr/local/lib/python3.10/dist-packages (from jsonschema>=3.0->altair->lida) (0.33.0)\n",
            "Requirement already satisfied: rpds-py>=0.7.1 in /usr/local/lib/python3.10/dist-packages (from jsonschema>=3.0->altair->lida) (0.17.1)\n",
            "Requirement already satisfied: anyio<5,>=3.4.0 in /usr/local/lib/python3.10/dist-packages (from starlette<0.36.0,>=0.35.0->fastapi->lida) (3.7.1)\n",
            "Collecting backoff<3.0,>=2.0 (from cohere->llmx>=0.0.18a->lida)\n",
            "  Downloading backoff-2.2.1-py3-none-any.whl (15 kB)\n",
            "Collecting fastavro<2.0,>=1.8 (from cohere->llmx>=0.0.18a->lida)\n",
            "  Downloading fastavro-1.9.3-cp310-cp310-manylinux_2_17_x86_64.manylinux2014_x86_64.whl (3.1 MB)\n",
            "\u001b[2K     \u001b[90m━━━━━━━━━━━━━━━━━━━━━━━━━━━━━━━━━━━━━━━━\u001b[0m \u001b[32m3.1/3.1 MB\u001b[0m \u001b[31m83.8 MB/s\u001b[0m eta \u001b[36m0:00:00\u001b[0m\n",
            "\u001b[?25hCollecting importlib_metadata<7.0,>=6.0 (from cohere->llmx>=0.0.18a->lida)\n",
            "  Downloading importlib_metadata-6.11.0-py3-none-any.whl (23 kB)\n",
            "Requirement already satisfied: urllib3<3,>=1.26 in /usr/local/lib/python3.10/dist-packages (from cohere->llmx>=0.0.18a->lida) (2.0.7)\n",
            "Requirement already satisfied: cachetools<6.0,>=2.0.0 in /usr/local/lib/python3.10/dist-packages (from google.auth->llmx>=0.0.18a->lida) (5.3.2)\n",
            "Requirement already satisfied: pyasn1-modules>=0.2.1 in /usr/local/lib/python3.10/dist-packages (from google.auth->llmx>=0.0.18a->lida) (0.3.0)\n",
            "Requirement already satisfied: rsa<5,>=3.1.4 in /usr/local/lib/python3.10/dist-packages (from google.auth->llmx>=0.0.18a->lida) (4.9)\n",
            "Requirement already satisfied: MarkupSafe>=2.0 in /usr/local/lib/python3.10/dist-packages (from jinja2->altair->lida) (2.1.4)\n",
            "Requirement already satisfied: regex>=2022.1.18 in /usr/local/lib/python3.10/dist-packages (from tiktoken->llmx>=0.0.18a->lida) (2023.12.25)\n",
            "Requirement already satisfied: aiosignal>=1.1.2 in /usr/local/lib/python3.10/dist-packages (from aiohttp->openai==0.28.1->llmx>=0.0.18a->lida) (1.3.1)\n",
            "Requirement already satisfied: frozenlist>=1.1.1 in /usr/local/lib/python3.10/dist-packages (from aiohttp->openai==0.28.1->llmx>=0.0.18a->lida) (1.4.1)\n",
            "Requirement already satisfied: multidict<7.0,>=4.5 in /usr/local/lib/python3.10/dist-packages (from aiohttp->openai==0.28.1->llmx>=0.0.18a->lida) (6.0.4)\n",
            "Requirement already satisfied: yarl<2.0,>=1.0 in /usr/local/lib/python3.10/dist-packages (from aiohttp->openai==0.28.1->llmx>=0.0.18a->lida) (1.9.4)\n",
            "Requirement already satisfied: async-timeout<5.0,>=4.0 in /usr/local/lib/python3.10/dist-packages (from aiohttp->openai==0.28.1->llmx>=0.0.18a->lida) (4.0.3)\n",
            "Requirement already satisfied: idna>=2.8 in /usr/local/lib/python3.10/dist-packages (from anyio<5,>=3.4.0->starlette<0.36.0,>=0.35.0->fastapi->lida) (3.6)\n",
            "Requirement already satisfied: sniffio>=1.1 in /usr/local/lib/python3.10/dist-packages (from anyio<5,>=3.4.0->starlette<0.36.0,>=0.35.0->fastapi->lida) (1.3.0)\n",
            "Requirement already satisfied: exceptiongroup in /usr/local/lib/python3.10/dist-packages (from anyio<5,>=3.4.0->starlette<0.36.0,>=0.35.0->fastapi->lida) (1.2.0)\n",
            "Requirement already satisfied: zipp>=0.5 in /usr/local/lib/python3.10/dist-packages (from importlib_metadata<7.0,>=6.0->cohere->llmx>=0.0.18a->lida) (3.17.0)\n",
            "Requirement already satisfied: pyasn1<0.6.0,>=0.4.6 in /usr/local/lib/python3.10/dist-packages (from pyasn1-modules>=0.2.1->google.auth->llmx>=0.0.18a->lida) (0.5.1)\n",
            "Requirement already satisfied: charset-normalizer<4,>=2 in /usr/local/lib/python3.10/dist-packages (from requests>=2.20->openai==0.28.1->llmx>=0.0.18a->lida) (3.3.2)\n",
            "Installing collected packages: importlib_metadata, fastavro, backoff, tiktoken, openai, cohere, llmx, lida\n",
            "  Attempting uninstall: importlib_metadata\n",
            "    Found existing installation: importlib-metadata 7.0.1\n",
            "    Uninstalling importlib-metadata-7.0.1:\n",
            "      Successfully uninstalled importlib-metadata-7.0.1\n",
            "  Attempting uninstall: llmx\n",
            "    Found existing installation: llmx 0.0.15a0\n",
            "    Uninstalling llmx-0.0.15a0:\n",
            "      Successfully uninstalled llmx-0.0.15a0\n",
            "  Attempting uninstall: lida\n",
            "    Found existing installation: lida 0.0.10\n",
            "    Uninstalling lida-0.0.10:\n",
            "      Successfully uninstalled lida-0.0.10\n",
            "Successfully installed backoff-2.2.1 cohere-4.45 fastavro-1.9.3 importlib_metadata-6.11.0 lida-0.0.11 llmx-0.0.18a0 openai-0.28.1 tiktoken-0.5.2\n"
          ]
        }
      ],
      "source": [
        "!pip install --upgrade lida\n"
      ]
    },
    {
      "cell_type": "code",
      "execution_count": null,
      "metadata": {
        "colab": {
          "base_uri": "https://localhost:8080/"
        },
        "id": "nvgxVDiUTQjI",
        "outputId": "22cd23cb-9386-4b21-9e2e-d232c59258ad"
      },
      "outputs": [
        {
          "output_type": "stream",
          "name": "stdout",
          "text": [
            "Requirement already satisfied: tensorflow-probability in /usr/local/lib/python3.10/dist-packages (0.22.0)\n",
            "Collecting tensorflow-probability\n",
            "  Downloading tensorflow_probability-0.23.0-py2.py3-none-any.whl (6.9 MB)\n",
            "\u001b[2K     \u001b[90m━━━━━━━━━━━━━━━━━━━━━━━━━━━━━━━━━━━━━━━━\u001b[0m \u001b[32m6.9/6.9 MB\u001b[0m \u001b[31m21.3 MB/s\u001b[0m eta \u001b[36m0:00:00\u001b[0m\n",
            "\u001b[?25hRequirement already satisfied: absl-py in /usr/local/lib/python3.10/dist-packages (from tensorflow-probability) (1.4.0)\n",
            "Requirement already satisfied: six>=1.10.0 in /usr/local/lib/python3.10/dist-packages (from tensorflow-probability) (1.16.0)\n",
            "Requirement already satisfied: numpy>=1.13.3 in /usr/local/lib/python3.10/dist-packages (from tensorflow-probability) (1.23.5)\n",
            "Requirement already satisfied: decorator in /usr/local/lib/python3.10/dist-packages (from tensorflow-probability) (4.4.2)\n",
            "Requirement already satisfied: cloudpickle>=1.3 in /usr/local/lib/python3.10/dist-packages (from tensorflow-probability) (2.2.1)\n",
            "Requirement already satisfied: gast>=0.3.2 in /usr/local/lib/python3.10/dist-packages (from tensorflow-probability) (0.5.4)\n",
            "Requirement already satisfied: dm-tree in /usr/local/lib/python3.10/dist-packages (from tensorflow-probability) (0.1.8)\n",
            "Installing collected packages: tensorflow-probability\n",
            "  Attempting uninstall: tensorflow-probability\n",
            "    Found existing installation: tensorflow-probability 0.22.0\n",
            "    Uninstalling tensorflow-probability-0.22.0:\n",
            "      Successfully uninstalled tensorflow-probability-0.22.0\n",
            "Successfully installed tensorflow-probability-0.23.0\n"
          ]
        }
      ],
      "source": [
        "pip install --upgrade tensorflow-probability\n"
      ]
    },
    {
      "cell_type": "code",
      "execution_count": null,
      "metadata": {
        "colab": {
          "base_uri": "https://localhost:8080/"
        },
        "id": "2tUpgao9fc9h",
        "outputId": "f8772167-373e-43c1-a956-ce38ea1e5169"
      },
      "outputs": [
        {
          "output_type": "stream",
          "name": "stdout",
          "text": [
            "Collecting pymatgen\n",
            "  Downloading pymatgen-2024.1.27.tar.gz (7.2 MB)\n",
            "\u001b[2K     \u001b[90m━━━━━━━━━━━━━━━━━━━━━━━━━━━━━━━━━━━━━━━━\u001b[0m \u001b[32m7.2/7.2 MB\u001b[0m \u001b[31m25.5 MB/s\u001b[0m eta \u001b[36m0:00:00\u001b[0m\n",
            "\u001b[?25h  Installing build dependencies ... \u001b[?25l\u001b[?25hdone\n",
            "  Getting requirements to build wheel ... \u001b[?25l\u001b[?25hdone\n",
            "  Installing backend dependencies ... \u001b[?25l\u001b[?25hdone\n",
            "  Preparing metadata (pyproject.toml) ... \u001b[?25l\u001b[?25hdone\n",
            "Requirement already satisfied: matplotlib>=1.5 in /usr/local/lib/python3.10/dist-packages (from pymatgen) (3.7.1)\n",
            "Collecting monty>=3.0.2 (from pymatgen)\n",
            "  Downloading monty-2024.2.2-py3-none-any.whl (63 kB)\n",
            "\u001b[2K     \u001b[90m━━━━━━━━━━━━━━━━━━━━━━━━━━━━━━━━━━━━━━━━\u001b[0m \u001b[32m63.0/63.0 kB\u001b[0m \u001b[31m7.5 MB/s\u001b[0m eta \u001b[36m0:00:00\u001b[0m\n",
            "\u001b[?25hRequirement already satisfied: networkx>=2.2 in /usr/local/lib/python3.10/dist-packages (from pymatgen) (3.2.1)\n",
            "Collecting numpy>=1.25.0 (from pymatgen)\n",
            "  Downloading numpy-1.26.3-cp310-cp310-manylinux_2_17_x86_64.manylinux2014_x86_64.whl (18.2 MB)\n",
            "\u001b[2K     \u001b[90m━━━━━━━━━━━━━━━━━━━━━━━━━━━━━━━━━━━━━━━━\u001b[0m \u001b[32m18.2/18.2 MB\u001b[0m \u001b[31m41.6 MB/s\u001b[0m eta \u001b[36m0:00:00\u001b[0m\n",
            "\u001b[?25hCollecting palettable>=3.1.1 (from pymatgen)\n",
            "  Downloading palettable-3.3.3-py2.py3-none-any.whl (332 kB)\n",
            "\u001b[2K     \u001b[90m━━━━━━━━━━━━━━━━━━━━━━━━━━━━━━━━━━━━━━━━\u001b[0m \u001b[32m332.3/332.3 kB\u001b[0m \u001b[31m31.8 MB/s\u001b[0m eta \u001b[36m0:00:00\u001b[0m\n",
            "\u001b[?25hRequirement already satisfied: pandas in /usr/local/lib/python3.10/dist-packages (from pymatgen) (1.5.3)\n",
            "Requirement already satisfied: plotly>=4.5.0 in /usr/local/lib/python3.10/dist-packages (from pymatgen) (5.15.0)\n",
            "Collecting pybtex (from pymatgen)\n",
            "  Downloading pybtex-0.24.0-py2.py3-none-any.whl (561 kB)\n",
            "\u001b[2K     \u001b[90m━━━━━━━━━━━━━━━━━━━━━━━━━━━━━━━━━━━━━━━━\u001b[0m \u001b[32m561.4/561.4 kB\u001b[0m \u001b[31m44.0 MB/s\u001b[0m eta \u001b[36m0:00:00\u001b[0m\n",
            "\u001b[?25hRequirement already satisfied: requests in /usr/local/lib/python3.10/dist-packages (from pymatgen) (2.31.0)\n",
            "Collecting ruamel.yaml>=0.17.0 (from pymatgen)\n",
            "  Downloading ruamel.yaml-0.18.5-py3-none-any.whl (116 kB)\n",
            "\u001b[2K     \u001b[90m━━━━━━━━━━━━━━━━━━━━━━━━━━━━━━━━━━━━━━━━\u001b[0m \u001b[32m116.4/116.4 kB\u001b[0m \u001b[31m12.9 MB/s\u001b[0m eta \u001b[36m0:00:00\u001b[0m\n",
            "\u001b[?25hRequirement already satisfied: scipy>=1.5.0 in /usr/local/lib/python3.10/dist-packages (from pymatgen) (1.11.4)\n",
            "Collecting spglib>=2.0.2 (from pymatgen)\n",
            "  Downloading spglib-2.3.0-cp310-cp310-manylinux_2_17_x86_64.whl (807 kB)\n",
            "\u001b[2K     \u001b[90m━━━━━━━━━━━━━━━━━━━━━━━━━━━━━━━━━━━━━━━━\u001b[0m \u001b[32m807.7/807.7 kB\u001b[0m \u001b[31m54.5 MB/s\u001b[0m eta \u001b[36m0:00:00\u001b[0m\n",
            "\u001b[?25hRequirement already satisfied: sympy in /usr/local/lib/python3.10/dist-packages (from pymatgen) (1.12)\n",
            "Requirement already satisfied: tabulate in /usr/local/lib/python3.10/dist-packages (from pymatgen) (0.9.0)\n",
            "Requirement already satisfied: tqdm in /usr/local/lib/python3.10/dist-packages (from pymatgen) (4.66.1)\n",
            "Collecting uncertainties>=3.1.4 (from pymatgen)\n",
            "  Downloading uncertainties-3.1.7-py2.py3-none-any.whl (98 kB)\n",
            "\u001b[2K     \u001b[90m━━━━━━━━━━━━━━━━━━━━━━━━━━━━━━━━━━━━━━━━\u001b[0m \u001b[32m98.4/98.4 kB\u001b[0m \u001b[31m11.1 MB/s\u001b[0m eta \u001b[36m0:00:00\u001b[0m\n",
            "\u001b[?25hRequirement already satisfied: joblib in /usr/local/lib/python3.10/dist-packages (from pymatgen) (1.3.2)\n",
            "Requirement already satisfied: contourpy>=1.0.1 in /usr/local/lib/python3.10/dist-packages (from matplotlib>=1.5->pymatgen) (1.2.0)\n",
            "Requirement already satisfied: cycler>=0.10 in /usr/local/lib/python3.10/dist-packages (from matplotlib>=1.5->pymatgen) (0.12.1)\n",
            "Requirement already satisfied: fonttools>=4.22.0 in /usr/local/lib/python3.10/dist-packages (from matplotlib>=1.5->pymatgen) (4.47.2)\n",
            "Requirement already satisfied: kiwisolver>=1.0.1 in /usr/local/lib/python3.10/dist-packages (from matplotlib>=1.5->pymatgen) (1.4.5)\n",
            "Requirement already satisfied: packaging>=20.0 in /usr/local/lib/python3.10/dist-packages (from matplotlib>=1.5->pymatgen) (23.2)\n",
            "Requirement already satisfied: pillow>=6.2.0 in /usr/local/lib/python3.10/dist-packages (from matplotlib>=1.5->pymatgen) (9.4.0)\n",
            "Requirement already satisfied: pyparsing>=2.3.1 in /usr/local/lib/python3.10/dist-packages (from matplotlib>=1.5->pymatgen) (3.1.1)\n",
            "Requirement already satisfied: python-dateutil>=2.7 in /usr/local/lib/python3.10/dist-packages (from matplotlib>=1.5->pymatgen) (2.8.2)\n",
            "Requirement already satisfied: tenacity>=6.2.0 in /usr/local/lib/python3.10/dist-packages (from plotly>=4.5.0->pymatgen) (8.2.3)\n",
            "Collecting ruamel.yaml.clib>=0.2.7 (from ruamel.yaml>=0.17.0->pymatgen)\n",
            "  Downloading ruamel.yaml.clib-0.2.8-cp310-cp310-manylinux_2_17_x86_64.manylinux2014_x86_64.manylinux_2_24_x86_64.whl (526 kB)\n",
            "\u001b[2K     \u001b[90m━━━━━━━━━━━━━━━━━━━━━━━━━━━━━━━━━━━━━━━━\u001b[0m \u001b[32m526.7/526.7 kB\u001b[0m \u001b[31m45.6 MB/s\u001b[0m eta \u001b[36m0:00:00\u001b[0m\n",
            "\u001b[?25hRequirement already satisfied: future in /usr/local/lib/python3.10/dist-packages (from uncertainties>=3.1.4->pymatgen) (0.18.3)\n",
            "Requirement already satisfied: pytz>=2020.1 in /usr/local/lib/python3.10/dist-packages (from pandas->pymatgen) (2023.4)\n",
            "Requirement already satisfied: PyYAML>=3.01 in /usr/local/lib/python3.10/dist-packages (from pybtex->pymatgen) (6.0.1)\n",
            "Collecting latexcodec>=1.0.4 (from pybtex->pymatgen)\n",
            "  Downloading latexcodec-2.0.1-py2.py3-none-any.whl (18 kB)\n",
            "Requirement already satisfied: six in /usr/local/lib/python3.10/dist-packages (from pybtex->pymatgen) (1.16.0)\n",
            "Requirement already satisfied: charset-normalizer<4,>=2 in /usr/local/lib/python3.10/dist-packages (from requests->pymatgen) (3.3.2)\n",
            "Requirement already satisfied: idna<4,>=2.5 in /usr/local/lib/python3.10/dist-packages (from requests->pymatgen) (3.6)\n",
            "Requirement already satisfied: urllib3<3,>=1.21.1 in /usr/local/lib/python3.10/dist-packages (from requests->pymatgen) (2.0.7)\n",
            "Requirement already satisfied: certifi>=2017.4.17 in /usr/local/lib/python3.10/dist-packages (from requests->pymatgen) (2023.11.17)\n",
            "Requirement already satisfied: mpmath>=0.19 in /usr/local/lib/python3.10/dist-packages (from sympy->pymatgen) (1.3.0)\n",
            "Building wheels for collected packages: pymatgen\n",
            "  Building wheel for pymatgen (pyproject.toml) ... \u001b[?25l\u001b[?25hdone\n",
            "  Created wheel for pymatgen: filename=pymatgen-2024.1.27-cp310-cp310-linux_x86_64.whl size=8767351 sha256=1c47ae635d5251a0c5d2b2c006eab5a1c6b8a77cb7b39bdd55c670b356bdfc3b\n",
            "  Stored in directory: /root/.cache/pip/wheels/ee/58/93/14b5660717b7cf0223df12fcdf754c2ee6aa4daba441b337f1\n",
            "Successfully built pymatgen\n",
            "Installing collected packages: uncertainties, ruamel.yaml.clib, palettable, numpy, monty, latexcodec, spglib, ruamel.yaml, pybtex, pymatgen\n",
            "  Attempting uninstall: numpy\n",
            "    Found existing installation: numpy 1.23.5\n",
            "    Uninstalling numpy-1.23.5:\n",
            "      Successfully uninstalled numpy-1.23.5\n",
            "Successfully installed latexcodec-2.0.1 monty-2024.2.2 numpy-1.26.3 palettable-3.3.3 pybtex-0.24.0 pymatgen-2024.1.27 ruamel.yaml-0.18.5 ruamel.yaml.clib-0.2.8 spglib-2.3.0 uncertainties-3.1.7\n"
          ]
        }
      ],
      "source": [
        "!pip install pymatgen\n"
      ]
    },
    {
      "cell_type": "code",
      "execution_count": null,
      "metadata": {
        "colab": {
          "base_uri": "https://localhost:8080/",
          "height": 1000
        },
        "id": "V1tDMsF2kzJQ",
        "outputId": "49cfb20a-cfd5-44e6-8a01-f01c2ba469c7"
      },
      "outputs": [
        {
          "output_type": "stream",
          "name": "stdout",
          "text": [
            "Collecting mp-api\n",
            "  Downloading mp_api-0.39.5-py3-none-any.whl (96 kB)\n",
            "\u001b[2K     \u001b[90m━━━━━━━━━━━━━━━━━━━━━━━━━━━━━━━━━━━━━━━━\u001b[0m \u001b[32m96.9/96.9 kB\u001b[0m \u001b[31m1.5 MB/s\u001b[0m eta \u001b[36m0:00:00\u001b[0m\n",
            "\u001b[?25hRequirement already satisfied: setuptools in /usr/local/lib/python3.10/dist-packages (from mp-api) (67.7.2)\n",
            "Requirement already satisfied: msgpack in /usr/local/lib/python3.10/dist-packages (from mp-api) (1.0.7)\n",
            "Collecting maggma>=0.57.1 (from mp-api)\n",
            "  Downloading maggma-0.62.0-py3-none-any.whl (117 kB)\n",
            "\u001b[2K     \u001b[90m━━━━━━━━━━━━━━━━━━━━━━━━━━━━━━━━━━━━━━━━\u001b[0m \u001b[32m117.9/117.9 kB\u001b[0m \u001b[31m6.9 MB/s\u001b[0m eta \u001b[36m0:00:00\u001b[0m\n",
            "\u001b[?25hRequirement already satisfied: pymatgen>=2022.3.7 in /usr/local/lib/python3.10/dist-packages (from mp-api) (2024.1.27)\n",
            "Requirement already satisfied: typing-extensions>=3.7.4.1 in /usr/local/lib/python3.10/dist-packages (from mp-api) (4.9.0)\n",
            "Requirement already satisfied: requests>=2.23.0 in /usr/local/lib/python3.10/dist-packages (from mp-api) (2.31.0)\n",
            "Requirement already satisfied: monty>=2023.9.25 in /usr/local/lib/python3.10/dist-packages (from mp-api) (2024.2.2)\n",
            "Collecting emmet-core>=0.74.2 (from mp-api)\n",
            "  Downloading emmet_core-0.77.0-py3-none-any.whl (190 kB)\n",
            "\u001b[2K     \u001b[90m━━━━━━━━━━━━━━━━━━━━━━━━━━━━━━━━━━━━━━━━\u001b[0m \u001b[32m190.0/190.0 kB\u001b[0m \u001b[31m12.1 MB/s\u001b[0m eta \u001b[36m0:00:00\u001b[0m\n",
            "\u001b[?25hCollecting pydantic>=2.0 (from emmet-core>=0.74.2->mp-api)\n",
            "  Downloading pydantic-2.6.0-py3-none-any.whl (394 kB)\n",
            "\u001b[2K     \u001b[90m━━━━━━━━━━━━━━━━━━━━━━━━━━━━━━━━━━━━━━━━\u001b[0m \u001b[32m394.2/394.2 kB\u001b[0m \u001b[31m10.3 MB/s\u001b[0m eta \u001b[36m0:00:00\u001b[0m\n",
            "\u001b[?25hCollecting pydantic-settings>=2.0 (from emmet-core>=0.74.2->mp-api)\n",
            "  Downloading pydantic_settings-2.1.0-py3-none-any.whl (11 kB)\n",
            "Requirement already satisfied: pybtex~=0.24 in /usr/local/lib/python3.10/dist-packages (from emmet-core>=0.74.2->mp-api) (0.24.0)\n",
            "Collecting ruamel.yaml<0.18 (from maggma>=0.57.1->mp-api)\n",
            "  Downloading ruamel.yaml-0.17.40-py3-none-any.whl (113 kB)\n",
            "\u001b[2K     \u001b[90m━━━━━━━━━━━━━━━━━━━━━━━━━━━━━━━━━━━━━━━━\u001b[0m \u001b[32m113.7/113.7 kB\u001b[0m \u001b[31m14.8 MB/s\u001b[0m eta \u001b[36m0:00:00\u001b[0m\n",
            "\u001b[?25hCollecting pymongo>=4.2.0 (from maggma>=0.57.1->mp-api)\n",
            "  Downloading pymongo-4.6.1-cp310-cp310-manylinux_2_17_x86_64.manylinux2014_x86_64.whl (677 kB)\n",
            "\u001b[2K     \u001b[90m━━━━━━━━━━━━━━━━━━━━━━━━━━━━━━━━━━━━━━━━\u001b[0m \u001b[32m677.1/677.1 kB\u001b[0m \u001b[31m34.6 MB/s\u001b[0m eta \u001b[36m0:00:00\u001b[0m\n",
            "\u001b[?25hCollecting mongomock>=3.10.0 (from maggma>=0.57.1->mp-api)\n",
            "  Downloading mongomock-4.1.2-py2.py3-none-any.whl (60 kB)\n",
            "\u001b[2K     \u001b[90m━━━━━━━━━━━━━━━━━━━━━━━━━━━━━━━━━━━━━━━━\u001b[0m \u001b[32m60.0/60.0 kB\u001b[0m \u001b[31m7.7 MB/s\u001b[0m eta \u001b[36m0:00:00\u001b[0m\n",
            "\u001b[?25hCollecting pydash>=4.1.0 (from maggma>=0.57.1->mp-api)\n",
            "  Downloading pydash-7.0.7-py3-none-any.whl (110 kB)\n",
            "\u001b[2K     \u001b[90m━━━━━━━━━━━━━━━━━━━━━━━━━━━━━━━━━━━━━━━━\u001b[0m \u001b[32m110.3/110.3 kB\u001b[0m \u001b[31m15.0 MB/s\u001b[0m eta \u001b[36m0:00:00\u001b[0m\n",
            "\u001b[?25hRequirement already satisfied: jsonschema>=3.1.1 in /usr/local/lib/python3.10/dist-packages (from maggma>=0.57.1->mp-api) (4.19.2)\n",
            "Requirement already satisfied: tqdm>=4.19.6 in /usr/local/lib/python3.10/dist-packages (from maggma>=0.57.1->mp-api) (4.66.1)\n",
            "Collecting mongogrant>=0.3.1 (from maggma>=0.57.1->mp-api)\n",
            "  Downloading mongogrant-0.3.3-py3-none-any.whl (25 kB)\n",
            "Collecting aioitertools>=0.5.1 (from maggma>=0.57.1->mp-api)\n",
            "  Downloading aioitertools-0.11.0-py3-none-any.whl (23 kB)\n",
            "Requirement already satisfied: numpy>=1.17.3 in /usr/local/lib/python3.10/dist-packages (from maggma>=0.57.1->mp-api) (1.26.3)\n",
            "Requirement already satisfied: fastapi>=0.42.0 in /usr/local/lib/python3.10/dist-packages (from maggma>=0.57.1->mp-api) (0.109.1)\n",
            "Collecting pyzmq>=24.0.1 (from maggma>=0.57.1->mp-api)\n",
            "  Downloading pyzmq-25.1.2-cp310-cp310-manylinux_2_28_x86_64.whl (1.1 MB)\n",
            "\u001b[2K     \u001b[90m━━━━━━━━━━━━━━━━━━━━━━━━━━━━━━━━━━━━━━━━\u001b[0m \u001b[32m1.1/1.1 MB\u001b[0m \u001b[31m46.4 MB/s\u001b[0m eta \u001b[36m0:00:00\u001b[0m\n",
            "\u001b[?25hCollecting dnspython>=1.16.0 (from maggma>=0.57.1->mp-api)\n",
            "  Downloading dnspython-2.5.0-py3-none-any.whl (305 kB)\n",
            "\u001b[2K     \u001b[90m━━━━━━━━━━━━━━━━━━━━━━━━━━━━━━━━━━━━━━━━\u001b[0m \u001b[32m305.4/305.4 kB\u001b[0m \u001b[31m31.4 MB/s\u001b[0m eta \u001b[36m0:00:00\u001b[0m\n",
            "\u001b[?25hCollecting sshtunnel>=0.1.5 (from maggma>=0.57.1->mp-api)\n",
            "  Downloading sshtunnel-0.4.0-py2.py3-none-any.whl (24 kB)\n",
            "Collecting orjson>=3.9.0 (from maggma>=0.57.1->mp-api)\n",
            "  Downloading orjson-3.9.13-cp310-cp310-manylinux_2_17_x86_64.manylinux2014_x86_64.whl (138 kB)\n",
            "\u001b[2K     \u001b[90m━━━━━━━━━━━━━━━━━━━━━━━━━━━━━━━━━━━━━━━━\u001b[0m \u001b[32m138.7/138.7 kB\u001b[0m \u001b[31m18.3 MB/s\u001b[0m eta \u001b[36m0:00:00\u001b[0m\n",
            "\u001b[?25hCollecting boto3>=1.20.41 (from maggma>=0.57.1->mp-api)\n",
            "  Downloading boto3-1.34.34-py3-none-any.whl (139 kB)\n",
            "\u001b[2K     \u001b[90m━━━━━━━━━━━━━━━━━━━━━━━━━━━━━━━━━━━━━━━━\u001b[0m \u001b[32m139.3/139.3 kB\u001b[0m \u001b[31m18.1 MB/s\u001b[0m eta \u001b[36m0:00:00\u001b[0m\n",
            "\u001b[?25hRequirement already satisfied: python-dateutil>=2.8.2 in /usr/local/lib/python3.10/dist-packages (from maggma>=0.57.1->mp-api) (2.8.2)\n",
            "Requirement already satisfied: uvicorn>=0.18.3 in /usr/local/lib/python3.10/dist-packages (from maggma>=0.57.1->mp-api) (0.27.0.post1)\n",
            "Requirement already satisfied: matplotlib>=1.5 in /usr/local/lib/python3.10/dist-packages (from pymatgen>=2022.3.7->mp-api) (3.7.1)\n",
            "Requirement already satisfied: networkx>=2.2 in /usr/local/lib/python3.10/dist-packages (from pymatgen>=2022.3.7->mp-api) (3.2.1)\n",
            "Requirement already satisfied: palettable>=3.1.1 in /usr/local/lib/python3.10/dist-packages (from pymatgen>=2022.3.7->mp-api) (3.3.3)\n",
            "Requirement already satisfied: pandas in /usr/local/lib/python3.10/dist-packages (from pymatgen>=2022.3.7->mp-api) (1.5.3)\n",
            "Requirement already satisfied: plotly>=4.5.0 in /usr/local/lib/python3.10/dist-packages (from pymatgen>=2022.3.7->mp-api) (5.15.0)\n",
            "Requirement already satisfied: scipy>=1.5.0 in /usr/local/lib/python3.10/dist-packages (from pymatgen>=2022.3.7->mp-api) (1.11.4)\n",
            "Requirement already satisfied: spglib>=2.0.2 in /usr/local/lib/python3.10/dist-packages (from pymatgen>=2022.3.7->mp-api) (2.3.0)\n",
            "Requirement already satisfied: sympy in /usr/local/lib/python3.10/dist-packages (from pymatgen>=2022.3.7->mp-api) (1.12)\n",
            "Requirement already satisfied: tabulate in /usr/local/lib/python3.10/dist-packages (from pymatgen>=2022.3.7->mp-api) (0.9.0)\n",
            "Requirement already satisfied: uncertainties>=3.1.4 in /usr/local/lib/python3.10/dist-packages (from pymatgen>=2022.3.7->mp-api) (3.1.7)\n",
            "Requirement already satisfied: joblib in /usr/local/lib/python3.10/dist-packages (from pymatgen>=2022.3.7->mp-api) (1.3.2)\n",
            "Requirement already satisfied: charset-normalizer<4,>=2 in /usr/local/lib/python3.10/dist-packages (from requests>=2.23.0->mp-api) (3.3.2)\n",
            "Requirement already satisfied: idna<4,>=2.5 in /usr/local/lib/python3.10/dist-packages (from requests>=2.23.0->mp-api) (3.6)\n",
            "Requirement already satisfied: urllib3<3,>=1.21.1 in /usr/local/lib/python3.10/dist-packages (from requests>=2.23.0->mp-api) (2.0.7)\n",
            "Requirement already satisfied: certifi>=2017.4.17 in /usr/local/lib/python3.10/dist-packages (from requests>=2.23.0->mp-api) (2023.11.17)\n",
            "Collecting botocore<1.35.0,>=1.34.34 (from boto3>=1.20.41->maggma>=0.57.1->mp-api)\n",
            "  Downloading botocore-1.34.34-py3-none-any.whl (11.9 MB)\n",
            "\u001b[2K     \u001b[90m━━━━━━━━━━━━━━━━━━━━━━━━━━━━━━━━━━━━━━━━\u001b[0m \u001b[32m11.9/11.9 MB\u001b[0m \u001b[31m50.1 MB/s\u001b[0m eta \u001b[36m0:00:00\u001b[0m\n",
            "\u001b[?25hCollecting jmespath<2.0.0,>=0.7.1 (from boto3>=1.20.41->maggma>=0.57.1->mp-api)\n",
            "  Downloading jmespath-1.0.1-py3-none-any.whl (20 kB)\n",
            "Collecting s3transfer<0.11.0,>=0.10.0 (from boto3>=1.20.41->maggma>=0.57.1->mp-api)\n",
            "  Downloading s3transfer-0.10.0-py3-none-any.whl (82 kB)\n",
            "\u001b[2K     \u001b[90m━━━━━━━━━━━━━━━━━━━━━━━━━━━━━━━━━━━━━━━━\u001b[0m \u001b[32m82.1/82.1 kB\u001b[0m \u001b[31m11.0 MB/s\u001b[0m eta \u001b[36m0:00:00\u001b[0m\n",
            "\u001b[?25hRequirement already satisfied: starlette<0.36.0,>=0.35.0 in /usr/local/lib/python3.10/dist-packages (from fastapi>=0.42.0->maggma>=0.57.1->mp-api) (0.35.1)\n",
            "Requirement already satisfied: attrs>=22.2.0 in /usr/local/lib/python3.10/dist-packages (from jsonschema>=3.1.1->maggma>=0.57.1->mp-api) (23.2.0)\n",
            "Requirement already satisfied: jsonschema-specifications>=2023.03.6 in /usr/local/lib/python3.10/dist-packages (from jsonschema>=3.1.1->maggma>=0.57.1->mp-api) (2023.12.1)\n",
            "Requirement already satisfied: referencing>=0.28.4 in /usr/local/lib/python3.10/dist-packages (from jsonschema>=3.1.1->maggma>=0.57.1->mp-api) (0.33.0)\n",
            "Requirement already satisfied: rpds-py>=0.7.1 in /usr/local/lib/python3.10/dist-packages (from jsonschema>=3.1.1->maggma>=0.57.1->mp-api) (0.17.1)\n",
            "Requirement already satisfied: contourpy>=1.0.1 in /usr/local/lib/python3.10/dist-packages (from matplotlib>=1.5->pymatgen>=2022.3.7->mp-api) (1.2.0)\n",
            "Requirement already satisfied: cycler>=0.10 in /usr/local/lib/python3.10/dist-packages (from matplotlib>=1.5->pymatgen>=2022.3.7->mp-api) (0.12.1)\n",
            "Requirement already satisfied: fonttools>=4.22.0 in /usr/local/lib/python3.10/dist-packages (from matplotlib>=1.5->pymatgen>=2022.3.7->mp-api) (4.47.2)\n",
            "Requirement already satisfied: kiwisolver>=1.0.1 in /usr/local/lib/python3.10/dist-packages (from matplotlib>=1.5->pymatgen>=2022.3.7->mp-api) (1.4.5)\n",
            "Requirement already satisfied: packaging>=20.0 in /usr/local/lib/python3.10/dist-packages (from matplotlib>=1.5->pymatgen>=2022.3.7->mp-api) (23.2)\n",
            "Requirement already satisfied: pillow>=6.2.0 in /usr/local/lib/python3.10/dist-packages (from matplotlib>=1.5->pymatgen>=2022.3.7->mp-api) (9.4.0)\n",
            "Requirement already satisfied: pyparsing>=2.3.1 in /usr/local/lib/python3.10/dist-packages (from matplotlib>=1.5->pymatgen>=2022.3.7->mp-api) (3.1.1)\n",
            "Requirement already satisfied: Click in /usr/local/lib/python3.10/dist-packages (from mongogrant>=0.3.1->maggma>=0.57.1->mp-api) (8.1.7)\n",
            "Requirement already satisfied: Flask>=1.0 in /usr/local/lib/python3.10/dist-packages (from mongogrant>=0.3.1->maggma>=0.57.1->mp-api) (2.2.5)\n",
            "Collecting sentinels (from mongomock>=3.10.0->maggma>=0.57.1->mp-api)\n",
            "  Downloading sentinels-1.0.0.tar.gz (4.1 kB)\n",
            "  Preparing metadata (setup.py) ... \u001b[?25l\u001b[?25hdone\n",
            "Requirement already satisfied: tenacity>=6.2.0 in /usr/local/lib/python3.10/dist-packages (from plotly>=4.5.0->pymatgen>=2022.3.7->mp-api) (8.2.3)\n",
            "Requirement already satisfied: PyYAML>=3.01 in /usr/local/lib/python3.10/dist-packages (from pybtex~=0.24->emmet-core>=0.74.2->mp-api) (6.0.1)\n",
            "Requirement already satisfied: latexcodec>=1.0.4 in /usr/local/lib/python3.10/dist-packages (from pybtex~=0.24->emmet-core>=0.74.2->mp-api) (2.0.1)\n",
            "Requirement already satisfied: six in /usr/local/lib/python3.10/dist-packages (from pybtex~=0.24->emmet-core>=0.74.2->mp-api) (1.16.0)\n",
            "Collecting annotated-types>=0.4.0 (from pydantic>=2.0->emmet-core>=0.74.2->mp-api)\n",
            "  Downloading annotated_types-0.6.0-py3-none-any.whl (12 kB)\n",
            "Collecting pydantic-core==2.16.1 (from pydantic>=2.0->emmet-core>=0.74.2->mp-api)\n",
            "  Downloading pydantic_core-2.16.1-cp310-cp310-manylinux_2_17_x86_64.manylinux2014_x86_64.whl (2.2 MB)\n",
            "\u001b[2K     \u001b[90m━━━━━━━━━━━━━━━━━━━━━━━━━━━━━━━━━━━━━━━━\u001b[0m \u001b[32m2.2/2.2 MB\u001b[0m \u001b[31m86.0 MB/s\u001b[0m eta \u001b[36m0:00:00\u001b[0m\n",
            "\u001b[?25hCollecting python-dotenv>=0.21.0 (from pydantic-settings>=2.0->emmet-core>=0.74.2->mp-api)\n",
            "  Downloading python_dotenv-1.0.1-py3-none-any.whl (19 kB)\n",
            "Requirement already satisfied: ruamel.yaml.clib>=0.2.7 in /usr/local/lib/python3.10/dist-packages (from ruamel.yaml<0.18->maggma>=0.57.1->mp-api) (0.2.8)\n",
            "Collecting paramiko>=2.7.2 (from sshtunnel>=0.1.5->maggma>=0.57.1->mp-api)\n",
            "  Downloading paramiko-3.4.0-py3-none-any.whl (225 kB)\n",
            "\u001b[2K     \u001b[90m━━━━━━━━━━━━━━━━━━━━━━━━━━━━━━━━━━━━━━━━\u001b[0m \u001b[32m225.9/225.9 kB\u001b[0m \u001b[31m25.4 MB/s\u001b[0m eta \u001b[36m0:00:00\u001b[0m\n",
            "\u001b[?25hRequirement already satisfied: future in /usr/local/lib/python3.10/dist-packages (from uncertainties>=3.1.4->pymatgen>=2022.3.7->mp-api) (0.18.3)\n",
            "Requirement already satisfied: h11>=0.8 in /usr/local/lib/python3.10/dist-packages (from uvicorn>=0.18.3->maggma>=0.57.1->mp-api) (0.14.0)\n",
            "Requirement already satisfied: pytz>=2020.1 in /usr/local/lib/python3.10/dist-packages (from pandas->pymatgen>=2022.3.7->mp-api) (2023.4)\n",
            "Requirement already satisfied: mpmath>=0.19 in /usr/local/lib/python3.10/dist-packages (from sympy->pymatgen>=2022.3.7->mp-api) (1.3.0)\n",
            "Requirement already satisfied: Werkzeug>=2.2.2 in /usr/local/lib/python3.10/dist-packages (from Flask>=1.0->mongogrant>=0.3.1->maggma>=0.57.1->mp-api) (3.0.1)\n",
            "Requirement already satisfied: Jinja2>=3.0 in /usr/local/lib/python3.10/dist-packages (from Flask>=1.0->mongogrant>=0.3.1->maggma>=0.57.1->mp-api) (3.1.3)\n",
            "Requirement already satisfied: itsdangerous>=2.0 in /usr/local/lib/python3.10/dist-packages (from Flask>=1.0->mongogrant>=0.3.1->maggma>=0.57.1->mp-api) (2.1.2)\n",
            "Collecting bcrypt>=3.2 (from paramiko>=2.7.2->sshtunnel>=0.1.5->maggma>=0.57.1->mp-api)\n",
            "  Downloading bcrypt-4.1.2-cp39-abi3-manylinux_2_28_x86_64.whl (698 kB)\n",
            "\u001b[2K     \u001b[90m━━━━━━━━━━━━━━━━━━━━━━━━━━━━━━━━━━━━━━━━\u001b[0m \u001b[32m698.9/698.9 kB\u001b[0m \u001b[31m53.1 MB/s\u001b[0m eta \u001b[36m0:00:00\u001b[0m\n",
            "\u001b[?25hRequirement already satisfied: cryptography>=3.3 in /usr/local/lib/python3.10/dist-packages (from paramiko>=2.7.2->sshtunnel>=0.1.5->maggma>=0.57.1->mp-api) (42.0.2)\n",
            "Collecting pynacl>=1.5 (from paramiko>=2.7.2->sshtunnel>=0.1.5->maggma>=0.57.1->mp-api)\n",
            "  Downloading PyNaCl-1.5.0-cp36-abi3-manylinux_2_17_x86_64.manylinux2014_x86_64.manylinux_2_24_x86_64.whl (856 kB)\n",
            "\u001b[2K     \u001b[90m━━━━━━━━━━━━━━━━━━━━━━━━━━━━━━━━━━━━━━━━\u001b[0m \u001b[32m856.7/856.7 kB\u001b[0m \u001b[31m55.0 MB/s\u001b[0m eta \u001b[36m0:00:00\u001b[0m\n",
            "\u001b[?25hRequirement already satisfied: anyio<5,>=3.4.0 in /usr/local/lib/python3.10/dist-packages (from starlette<0.36.0,>=0.35.0->fastapi>=0.42.0->maggma>=0.57.1->mp-api) (3.7.1)\n",
            "Requirement already satisfied: sniffio>=1.1 in /usr/local/lib/python3.10/dist-packages (from anyio<5,>=3.4.0->starlette<0.36.0,>=0.35.0->fastapi>=0.42.0->maggma>=0.57.1->mp-api) (1.3.0)\n",
            "Requirement already satisfied: exceptiongroup in /usr/local/lib/python3.10/dist-packages (from anyio<5,>=3.4.0->starlette<0.36.0,>=0.35.0->fastapi>=0.42.0->maggma>=0.57.1->mp-api) (1.2.0)\n",
            "Requirement already satisfied: cffi>=1.12 in /usr/local/lib/python3.10/dist-packages (from cryptography>=3.3->paramiko>=2.7.2->sshtunnel>=0.1.5->maggma>=0.57.1->mp-api) (1.16.0)\n",
            "Requirement already satisfied: MarkupSafe>=2.0 in /usr/local/lib/python3.10/dist-packages (from Jinja2>=3.0->Flask>=1.0->mongogrant>=0.3.1->maggma>=0.57.1->mp-api) (2.1.4)\n",
            "Requirement already satisfied: pycparser in /usr/local/lib/python3.10/dist-packages (from cffi>=1.12->cryptography>=3.3->paramiko>=2.7.2->sshtunnel>=0.1.5->maggma>=0.57.1->mp-api) (2.21)\n",
            "Building wheels for collected packages: sentinels\n",
            "  Building wheel for sentinels (setup.py) ... \u001b[?25l\u001b[?25hdone\n",
            "  Created wheel for sentinels: filename=sentinels-1.0.0-py3-none-any.whl size=3173 sha256=854c94e5163ebd0c47e10578e1a84a6e658df39fd3a268b6f211e28cc244a39b\n",
            "  Stored in directory: /root/.cache/pip/wheels/26/bc/eb/67e56405e0684b3d8c011cf4d18129c41be394775fd5ba2347\n",
            "Successfully built sentinels\n",
            "Installing collected packages: sentinels, ruamel.yaml, pyzmq, python-dotenv, pydash, pydantic-core, orjson, mongomock, jmespath, dnspython, bcrypt, annotated-types, aioitertools, pynacl, pymongo, pydantic, botocore, s3transfer, pydantic-settings, paramiko, mongogrant, sshtunnel, emmet-core, boto3, maggma, mp-api\n",
            "  Attempting uninstall: ruamel.yaml\n",
            "    Found existing installation: ruamel.yaml 0.18.5\n",
            "    Uninstalling ruamel.yaml-0.18.5:\n",
            "      Successfully uninstalled ruamel.yaml-0.18.5\n",
            "  Attempting uninstall: pyzmq\n",
            "    Found existing installation: pyzmq 23.2.1\n",
            "    Uninstalling pyzmq-23.2.1:\n",
            "      Successfully uninstalled pyzmq-23.2.1\n",
            "  Attempting uninstall: pydantic\n",
            "    Found existing installation: pydantic 1.10.14\n",
            "    Uninstalling pydantic-1.10.14:\n",
            "      Successfully uninstalled pydantic-1.10.14\n",
            "\u001b[31mERROR: pip's dependency resolver does not currently take into account all the packages that are installed. This behaviour is the source of the following dependency conflicts.\n",
            "notebook 6.5.5 requires pyzmq<25,>=17, but you have pyzmq 25.1.2 which is incompatible.\u001b[0m\u001b[31m\n",
            "\u001b[0mSuccessfully installed aioitertools-0.11.0 annotated-types-0.6.0 bcrypt-4.1.2 boto3-1.34.34 botocore-1.34.34 dnspython-2.5.0 emmet-core-0.77.0 jmespath-1.0.1 maggma-0.62.0 mongogrant-0.3.3 mongomock-4.1.2 mp-api-0.39.5 orjson-3.9.13 paramiko-3.4.0 pydantic-2.6.0 pydantic-core-2.16.1 pydantic-settings-2.1.0 pydash-7.0.7 pymongo-4.6.1 pynacl-1.5.0 python-dotenv-1.0.1 pyzmq-25.1.2 ruamel.yaml-0.17.40 s3transfer-0.10.0 sentinels-1.0.0 sshtunnel-0.4.0\n"
          ]
        },
        {
          "output_type": "display_data",
          "data": {
            "application/vnd.colab-display-data+json": {
              "pip_warning": {
                "packages": [
                  "zmq"
                ]
              }
            }
          },
          "metadata": {}
        }
      ],
      "source": [
        "!pip install mp-api\n"
      ]
    },
    {
      "cell_type": "markdown",
      "metadata": {
        "id": "lDoZux7wi45o"
      },
      "source": [
        "**Declaramos la key de la API asignada al registrarse en materialsproject.org**"
      ]
    },
    {
      "cell_type": "code",
      "execution_count": null,
      "metadata": {
        "id": "fl1QYMPjwPYO"
      },
      "outputs": [],
      "source": [
        "Rodrigo_API='VbJheMrDRTb1k07Lg929Dtt9roFcUahf'"
      ]
    },
    {
      "cell_type": "markdown",
      "metadata": {
        "id": "juRJpab-i_Du"
      },
      "source": [
        "**Descargamos informacion del primer registro del Materials Project con identificador del material \"mp-1\"**"
      ]
    },
    {
      "cell_type": "code",
      "execution_count": null,
      "metadata": {
        "colab": {
          "base_uri": "https://localhost:8080/",
          "height": 1000,
          "referenced_widgets": [
            "507ba620ca124ae59838a08d102b7d3f",
            "da9f44ef8ebf468896d046fc12a79330",
            "ab106958ca4e42c9bd1d54cabc791671",
            "f18896eb05dd4d7cb8c142a67b47c1b0",
            "933bbbf77db0464cb3d6b7782789f95e",
            "ac4c60bda10a492186bd7bf0c57f2c1b",
            "c4b8b2200a894bb091ee32c5a2ff096c",
            "d35650dd8e224c8fa507ad59768c4a1d",
            "7f5b13f3e5b5472cb3ad654039db0fc2",
            "dd2c149b93074a6a941b577e0ddb7dcc",
            "42c96ce6086f4588958853ca24482391"
          ]
        },
        "id": "SANYgcf_SKKW",
        "outputId": "5cb13333-1b60-4fbb-85d7-45e49b651200"
      },
      "outputs": [
        {
          "output_type": "display_data",
          "data": {
            "text/plain": [
              "Retrieving SummaryDoc documents:   0%|          | 0/1 [00:00<?, ?it/s]"
            ],
            "application/vnd.jupyter.widget-view+json": {
              "version_major": 2,
              "version_minor": 0,
              "model_id": "507ba620ca124ae59838a08d102b7d3f"
            }
          },
          "metadata": {}
        },
        {
          "output_type": "stream",
          "name": "stdout",
          "text": [
            "\u001b[4m\u001b[1mMPDataDoc<SummaryDoc>\u001b[0;0m\u001b[0;0m\n",
            "\u001b[1mbuilder_meta\u001b[0;0m=EmmetMeta(emmet_version='0.72.20', pymatgen_version='2023.11.12', pull_request=990, database_version='2023.11.1', build_date=datetime.datetime(2023, 11, 22, 19, 38, 37, 851000), license='BY-C'),\n",
            "\u001b[1mnsites\u001b[0;0m=17,\n",
            "\u001b[1melements\u001b[0;0m=[Element Br, Element Ni, Element Y],\n",
            "\u001b[1mnelements\u001b[0;0m=3,\n",
            "\u001b[1mcomposition\u001b[0;0m=Composition('Y6 Ni1 Br10'),\n",
            "\u001b[1mcomposition_reduced\u001b[0;0m=Composition('Y6 Ni1 Br10'),\n",
            "\u001b[1mformula_pretty\u001b[0;0m='Y6NiBr10',\n",
            "\u001b[1mformula_anonymous\u001b[0;0m='AB6C10',\n",
            "\u001b[1mchemsys\u001b[0;0m='Br-Ni-Y',\n",
            "\u001b[1mvolume\u001b[0;0m=532.0786140235155,\n",
            "\u001b[1mdensity\u001b[0;0m=4.341632197927854,\n",
            "\u001b[1mdensity_atomic\u001b[0;0m=31.29874200138326,\n",
            "\u001b[1msymmetry\u001b[0;0m=SymmetryData(crystal_system=<CrystalSystem.tri: 'Triclinic'>, symbol='P-1', number=2, point_group='-1', symprec=0.1, version='2.0.2'),\n",
            "\u001b[1mproperty_name\u001b[0;0m='summary',\n",
            "\u001b[1mmaterial_id\u001b[0;0m=MPID(mp-1188648),\n",
            "\u001b[1mdeprecated\u001b[0;0m=False,\n",
            "\u001b[1mdeprecation_reasons\u001b[0;0m=None,\n",
            "\u001b[1mlast_updated\u001b[0;0m=datetime.datetime(2023, 11, 22, 19, 38, 37, 851000),\n",
            "\u001b[1morigins\u001b[0;0m=[PropertyOrigin(name='structure', task_id=MPID(mp-2033309), last_updated=datetime.datetime(2021, 3, 14, 7, 51, 47, 758000)), PropertyOrigin(name='energy', task_id=MPID(mp-2033309), last_updated=datetime.datetime(2023, 8, 3, 19, 46, 40, 858000)), PropertyOrigin(name='magnetism', task_id=MPID(mp-2033309), last_updated=datetime.datetime(2021, 3, 14, 7, 51, 47, 758000))],\n",
            "\u001b[1mwarnings\u001b[0;0m=[],\n",
            "\u001b[1mstructure\u001b[0;0m=Structure Summary\n",
            "Lattice\n",
            "    abc : 7.260494805409078 9.054440362266186 9.080529643443871\n",
            " angles : 108.18498488059245 97.08812128280832 105.58866763825398\n",
            " volume : 532.0786140235155\n",
            "      A : 7.2604839 0.01250951 0.00136725\n",
            "      B : -2.44822009 8.71715228 0.01909953\n",
            "      C : -1.11643776 -3.2755034 8.39527622\n",
            "    pbc : True True True\n",
            "PeriodicSite: Y (3.755, 7.537, 2.084) [0.8773, 0.9557, 0.2459]\n",
            "PeriodicSite: Y (-0.05942, -2.082, 6.332) [0.1227, 0.04429, 0.7541]\n",
            "PeriodicSite: Y (-2.529, 3.159, 7.625) [0.02818, 0.703, 0.9066]\n",
            "PeriodicSite: Y (6.225, 2.295, 0.7908) [0.9718, 0.297, 0.09336]\n",
            "PeriodicSite: Y (1.621, 4.858, 6.925) [0.6417, 0.8655, 0.8228]\n",
            "PeriodicSite: Y (2.075, 0.5962, 1.491) [0.3583, 0.1345, 0.1772]\n",
            "PeriodicSite: Ni (0.0, 0.0, 0.0) [-0.0, -0.0, -0.0]\n",
            "PeriodicSite: Br (2.519, 2.339, 6.099) [0.6404, 0.5399, 0.7251]\n",
            "PeriodicSite: Br (1.177, 3.115, 2.317) [0.3596, 0.4601, 0.2749]\n",
            "PeriodicSite: Br (2.551, 6.215, 4.525) [0.742, 0.9136, 0.5368]\n",
            "PeriodicSite: Br (1.145, -0.7608, 3.891) [0.258, 0.08642, 0.4632]\n",
            "PeriodicSite: Br (4.894, 4.903, 1.505) [0.9131, 0.6279, 0.1777]\n",
            "PeriodicSite: Br (-1.198, 0.5515, 6.911) [0.08695, 0.3721, 0.8223]\n",
            "PeriodicSite: Br (2.522, -1.398, 7.665) [0.5489, 0.1816, 0.9125]\n",
            "PeriodicSite: Br (1.174, 6.853, 0.7511) [0.4511, 0.8184, 0.08753]\n",
            "PeriodicSite: Br (-0.9762, 4.322, 5.45) [0.2142, 0.7388, 0.6475]\n",
            "PeriodicSite: Br (4.672, 1.132, 2.966) [0.7858, 0.2612, 0.3525],\n",
            "\u001b[1mtask_ids\u001b[0;0m=[MPID(mp-2169173), MPID(mp-2053064), MPID(mp-2312219), MPID(mp-1672633), MPID(mp-1931851), MPID(mp-2033309), MPID(mp-1188648), MPID(mp-1425873), MPID(mp-1606786)],\n",
            "\u001b[1muncorrected_energy_per_atom\u001b[0;0m=-17.489318308235294,\n",
            "\u001b[1menergy_per_atom\u001b[0;0m=-5.4886601335294,\n",
            "\u001b[1mformation_energy_per_atom\u001b[0;0m=-1.9377796052941065,\n",
            "\u001b[1menergy_above_hull\u001b[0;0m=0.0,\n",
            "\u001b[1mis_stable\u001b[0;0m=True,\n",
            "\u001b[1mequilibrium_reaction_energy_per_atom\u001b[0;0m=-0.031533276985284964,\n",
            "\u001b[1mdecomposes_to\u001b[0;0m=None,\n",
            "\u001b[1mxas\u001b[0;0m=None,\n",
            "\u001b[1mgrain_boundaries\u001b[0;0m=None,\n",
            "\u001b[1mband_gap\u001b[0;0m=0.48240000000000016,\n",
            "\u001b[1mcbm\u001b[0;0m=3.3096,\n",
            "\u001b[1mvbm\u001b[0;0m=2.8272,\n",
            "\u001b[1mefermi\u001b[0;0m=3.01036477,\n",
            "\u001b[1mis_gap_direct\u001b[0;0m=False,\n",
            "\u001b[1mis_metal\u001b[0;0m=False,\n",
            "\u001b[1mes_source_calc_id\u001b[0;0m=None,\n",
            "\u001b[1mbandstructure\u001b[0;0m=BandstructureData(setyawan_curtarolo=BandStructureSummaryData(task_id=MPID(mp-1606786), band_gap=0.48240000000000016, cbm={'band_index': {'1': [76]}, 'kpoint_index': [87], 'kpoint': <pymatgen.electronic_structure.bandstructure.Kpoint object at 0x78708d107cd0>, 'energy': 3.3096, 'projections': {'1': [[0.0003, 0.0003, 0.0002, 0.0002, 0.0001, 0.0001, 0.0, 0.0, 0.0, 0.0, 0.0, 0.0, 0.0, 0.0002, 0.0002, 0.0, 0.0], [0.0, 0.0, 0.0, 0.0, 0.0001, 0.0001, 0.0, 0.0002, 0.0002, 0.0004, 0.0004, 0.0003, 0.0003, 0.0001, 0.0001, 0.0006, 0.0006], [0.0002, 0.0002, 0.0002, 0.0002, 0.0, 0.0, 0.0, 0.0011, 0.0011, 0.0002, 0.0002, 0.0, 0.0, 0.0, 0.0, 0.0037, 0.0037], [0.0002, 0.0002, 0.0, 0.0, 0.0005, 0.0005, 0.0, 0.0004, 0.0004, 0.0004, 0.0004, 0.0009, 0.0009, 0.0001, 0.0001, 0.0001, 0.0001], [0.0177, 0.0177, 0.0058, 0.0058, 0.0139, 0.0139, 0.044, 0.0001, 0.0001, 0.001, 0.001, 0.0003, 0.0003, 0.0005, 0.0005, 0.0005, 0.0005], [0.0, 0.0, 0.0014, 0.0014, 0.0008, 0.0008, 0.0012, 0.0, 0.0, 0.0, 0.0, 0.0, 0.0, 0.0, 0.0, 0.0, 0.0], [0.0439, 0.0439, 0.0281, 0.0281, 0.0402, 0.0402, 0.1092, 0.0005, 0.0005, 0.0024, 0.0024, 0.0004, 0.0004, 0.0021, 0.0021, 0.0011, 0.0011], [0.0078, 0.0078, 0.0061, 0.0061, 0.0134, 0.0134, 0.0211, 0.0002, 0.0002, 0.0008, 0.0008, 0.0002, 0.0002, 0.0009, 0.0009, 0.0004, 0.0004], [0.0041, 0.0041, 0.0043, 0.0043, 0.0025, 0.0025, 0.0077, 0.0, 0.0, 0.0002, 0.0002, 0.0, 0.0, 0.0002, 0.0002, 0.0002, 0.0002]]}}, vbm={'band_index': {'1': [75]}, 'kpoint_index': [86], 'kpoint': <pymatgen.electronic_structure.bandstructure.Kpoint object at 0x78708d1079d0>, 'energy': 2.8272, 'projections': {'1': [[0.0099, 0.0099, 0.0036, 0.0037, 0.0004, 0.0004, 0.0, 0.0, 0.0, 0.0, 0.0, 0.0, 0.0, 0.0, 0.0, 0.0, 0.0], [0.0012, 0.0012, 0.0043, 0.0043, 0.0022, 0.0022, 0.0385, 0.0, 0.0, 0.0003, 0.0003, 0.0084, 0.0084, 0.0, 0.0, 0.0025, 0.0025], [0.0083, 0.0083, 0.0049, 0.0049, 0.0, 0.0, 0.0184, 0.0005, 0.0005, 0.0065, 0.0065, 0.0013, 0.0013, 0.0001, 0.0001, 0.0005, 0.0005], [0.0054, 0.0054, 0.0027, 0.0027, 0.0006, 0.0006, 0.0005, 0.0007, 0.0007, 0.0007, 0.0007, 0.0, 0.0, 0.0051, 0.0051, 0.0001, 0.0001], [0.0016, 0.0016, 0.0029, 0.0029, 0.0361, 0.0361, 0.0, 0.0, 0.0, 0.0002, 0.0002, 0.0001, 0.0001, 0.0002, 0.0002, 0.0, 0.0], [0.0004, 0.0004, 0.0349, 0.0349, 0.0142, 0.0142, 0.0, 0.0, 0.0, 0.0003, 0.0003, 0.0001, 0.0001, 0.0001, 0.0001, 0.0, 0.0], [0.0124, 0.0124, 0.0012, 0.0012, 0.0189, 0.0189, 0.0, 0.0001, 0.0001, 0.0002, 0.0002, 0.0, 0.0, 0.0, 0.0, 0.0001, 0.0001], [0.0353, 0.0353, 0.0104, 0.0104, 0.002, 0.002, 0.0, 0.0, 0.0, 0.0002, 0.0002, 0.0001, 0.0001, 0.0, 0.0, 0.0001, 0.0001], [0.0113, 0.0113, 0.0001, 0.0001, 0.0001, 0.0001, 0.0, 0.0, 0.0, 0.0, 0.0, 0.0002, 0.0002, 0.0, 0.0, 0.0, 0.0]]}}, efermi=3.01036477, is_gap_direct=False, is_metal=False, magnetic_ordering='NM', nbands=160.0, equivalent_labels={'setyawan_curtarolo': {'latimer_munro': {'\\\\Gamma': 'Γ', 'L': 'r', 'M': 'c', 'R': 'h', 'X': 'b', 'Z': 'q', 'N': 'N', 'Y': 'a^{*}'}, 'hinuma': {'\\\\Gamma': 'GAMMA', 'L': 'V_2', 'M': 'Z', 'N': 'R_2', 'R': 'T_2', 'X': 'Y_2', 'Y': 'X', 'Z': 'U_2'}}, 'latimer_munro': {'setyawan_curtarolo': {'b': 'X', 'Γ': '\\\\Gamma', 'h': 'R', 'r': 'L', 'q': 'Z', 'c': 'M', 'a': 'Y^{*}', 'm': 'm'}, 'hinuma': {'b': 'Y_2', 'Γ': 'GAMMA', 'h': 'T_2', 'r': 'V_2', 'q': 'U_2', 'c': 'Z', 'a': 'X^{*}', 'm': 'm'}}, 'hinuma': {'setyawan_curtarolo': {'GAMMA': '\\\\Gamma', 'Z': 'M', 'Y_2': 'X', 'X': 'Y', 'V_2': 'L', 'U_2': 'Z', 'T_2': 'R', 'R_2': 'N', 'Y': 'X^{*}'}, 'latimer_munro': {'GAMMA': 'Γ', 'Z': 'c', 'Y_2': 'b', 'V_2': 'r', 'U_2': 'q', 'T_2': 'h', 'Y': 'b^{*}', 'X': 'a^{*}', 'R_2': 'R_2'}}}, direct_gap=0.5712999999999999), hinuma=BandStructureSummaryData(task_id=MPID(mp-2169173), band_gap=0.48240000000000016, cbm={'band_index': {'1': [76]}, 'kpoint_index': [339], 'kpoint': <pymatgen.electronic_structure.bandstructure.Kpoint object at 0x78708cdf03a0>, 'energy': 3.3096, 'projections': {'1': [[0.0003, 0.0003, 0.0002, 0.0002, 0.0001, 0.0001, 0.0, 0.0, 0.0, 0.0, 0.0, 0.0, 0.0, 0.0002, 0.0002, 0.0, 0.0], [0.0, 0.0, 0.0, 0.0, 0.0001, 0.0001, 0.0, 0.0002, 0.0002, 0.0004, 0.0004, 0.0003, 0.0003, 0.0001, 0.0001, 0.0006, 0.0006], [0.0002, 0.0002, 0.0002, 0.0002, 0.0, 0.0, 0.0, 0.0011, 0.0011, 0.0002, 0.0002, 0.0, 0.0, 0.0, 0.0, 0.0037, 0.0037], [0.0002, 0.0002, 0.0, 0.0, 0.0005, 0.0005, 0.0, 0.0004, 0.0004, 0.0004, 0.0004, 0.0009, 0.0009, 0.0001, 0.0001, 0.0001, 0.0001], [0.0177, 0.0177, 0.0058, 0.0058, 0.0139, 0.0139, 0.044, 0.0001, 0.0001, 0.001, 0.001, 0.0003, 0.0003, 0.0005, 0.0005, 0.0005, 0.0005], [0.0, 0.0, 0.0014, 0.0014, 0.0008, 0.0008, 0.0012, 0.0, 0.0, 0.0, 0.0, 0.0, 0.0, 0.0, 0.0, 0.0, 0.0], [0.0439, 0.0439, 0.0281, 0.0281, 0.0402, 0.0402, 0.1092, 0.0005, 0.0005, 0.0024, 0.0024, 0.0004, 0.0004, 0.0021, 0.0021, 0.0011, 0.0011], [0.0078, 0.0078, 0.0061, 0.0061, 0.0134, 0.0134, 0.0211, 0.0002, 0.0002, 0.0008, 0.0008, 0.0002, 0.0002, 0.0009, 0.0009, 0.0004, 0.0004], [0.0041, 0.0041, 0.0043, 0.0043, 0.0025, 0.0025, 0.0077, 0.0, 0.0, 0.0002, 0.0002, 0.0, 0.0, 0.0002, 0.0002, 0.0002, 0.0002]]}}, vbm={'band_index': {'1': [75]}, 'kpoint_index': [46], 'kpoint': <pymatgen.electronic_structure.bandstructure.Kpoint object at 0x78708cdf02e0>, 'energy': 2.8272, 'projections': {'1': [[0.0099, 0.0099, 0.0037, 0.0037, 0.0004, 0.0004, 0.0, 0.0, 0.0, 0.0, 0.0, 0.0, 0.0, 0.0, 0.0, 0.0, 0.0], [0.0012, 0.0012, 0.0043, 0.0043, 0.0022, 0.0022, 0.0385, 0.0, 0.0, 0.0003, 0.0003, 0.0084, 0.0084, 0.0, 0.0, 0.0025, 0.0025], [0.0083, 0.0083, 0.0049, 0.0049, 0.0, 0.0, 0.0184, 0.0005, 0.0005, 0.0065, 0.0065, 0.0013, 0.0013, 0.0001, 0.0001, 0.0005, 0.0005], [0.0054, 0.0054, 0.0027, 0.0027, 0.0006, 0.0006, 0.0005, 0.0007, 0.0007, 0.0007, 0.0007, 0.0, 0.0, 0.0051, 0.0051, 0.0001, 0.0001], [0.0016, 0.0016, 0.0029, 0.0029, 0.0361, 0.0361, 0.0, 0.0, 0.0, 0.0002, 0.0002, 0.0001, 0.0001, 0.0002, 0.0002, 0.0, 0.0], [0.0004, 0.0004, 0.0349, 0.0349, 0.0142, 0.0142, 0.0, 0.0, 0.0, 0.0003, 0.0003, 0.0001, 0.0001, 0.0001, 0.0001, 0.0, 0.0], [0.0124, 0.0124, 0.0012, 0.0012, 0.0189, 0.0189, 0.0, 0.0001, 0.0001, 0.0002, 0.0002, 0.0, 0.0, 0.0, 0.0, 0.0001, 0.0001], [0.0353, 0.0353, 0.0104, 0.0104, 0.002, 0.002, 0.0, 0.0, 0.0, 0.0002, 0.0002, 0.0001, 0.0001, 0.0, 0.0, 0.0001, 0.0001], [0.0113, 0.0113, 0.0001, 0.0001, 0.0001, 0.0001, 0.0, 0.0, 0.0, 0.0, 0.0, 0.0002, 0.0002, 0.0, 0.0, 0.0, 0.0]]}}, efermi=3.01897625, is_gap_direct=False, is_metal=False, magnetic_ordering='NM', nbands=160.0, equivalent_labels={'setyawan_curtarolo': {'latimer_munro': {'\\\\Gamma': 'Γ', 'L': 'r', 'M': 'c', 'R': 'h', 'X': 'b', 'Z': 'q', 'N': 'N', 'Y': 'a^{*}'}, 'hinuma': {'\\\\Gamma': 'GAMMA', 'L': 'V_2', 'M': 'Z', 'N': 'R_2', 'R': 'T_2', 'X': 'Y_2', 'Y': 'X', 'Z': 'U_2'}}, 'latimer_munro': {'setyawan_curtarolo': {'b': 'X', 'Γ': '\\\\Gamma', 'h': 'R', 'r': 'L', 'q': 'Z', 'c': 'M', 'a': 'Y^{*}', 'm': 'm'}, 'hinuma': {'b': 'Y_2', 'Γ': 'GAMMA', 'h': 'T_2', 'r': 'V_2', 'q': 'U_2', 'c': 'Z', 'a': 'X^{*}', 'm': 'm'}}, 'hinuma': {'setyawan_curtarolo': {'GAMMA': '\\\\Gamma', 'Z': 'M', 'Y_2': 'X', 'X': 'Y', 'V_2': 'L', 'U_2': 'Z', 'T_2': 'R', 'R_2': 'N', 'Y': 'X^{*}'}, 'latimer_munro': {'GAMMA': 'Γ', 'Z': 'c', 'Y_2': 'b', 'V_2': 'r', 'U_2': 'q', 'T_2': 'h', 'Y': 'b^{*}', 'X': 'a^{*}', 'R_2': 'R_2'}}}, direct_gap=0.5712999999999999), latimer_munro=BandStructureSummaryData(task_id=MPID(mp-2312219), band_gap=0.48240000000000016, cbm={'band_index': {'1': [76]}, 'kpoint_index': [272], 'kpoint': <pymatgen.electronic_structure.bandstructure.Kpoint object at 0x78708cf27f10>, 'energy': 3.3096, 'projections': {'1': [[0.0003, 0.0003, 0.0002, 0.0002, 0.0001, 0.0001, 0.0, 0.0, 0.0, 0.0, 0.0, 0.0, 0.0, 0.0002, 0.0002, 0.0, 0.0], [0.0, 0.0, 0.0, 0.0, 0.0001, 0.0001, 0.0, 0.0002, 0.0002, 0.0004, 0.0004, 0.0003, 0.0003, 0.0001, 0.0001, 0.0006, 0.0006], [0.0002, 0.0002, 0.0002, 0.0002, 0.0, 0.0, 0.0, 0.0011, 0.0011, 0.0002, 0.0002, 0.0, 0.0, 0.0, 0.0, 0.0037, 0.0037], [0.0002, 0.0002, 0.0, 0.0, 0.0005, 0.0005, 0.0, 0.0004, 0.0004, 0.0004, 0.0004, 0.0009, 0.0009, 0.0001, 0.0001, 0.0001, 0.0001], [0.0177, 0.0177, 0.0058, 0.0058, 0.0139, 0.0139, 0.044, 0.0001, 0.0001, 0.001, 0.001, 0.0003, 0.0003, 0.0005, 0.0005, 0.0005, 0.0005], [0.0, 0.0, 0.0014, 0.0014, 0.0008, 0.0008, 0.0012, 0.0, 0.0, 0.0, 0.0, 0.0, 0.0, 0.0, 0.0, 0.0, 0.0], [0.0439, 0.0439, 0.0281, 0.0281, 0.0402, 0.0402, 0.1092, 0.0005, 0.0005, 0.0024, 0.0024, 0.0004, 0.0004, 0.0021, 0.0021, 0.0011, 0.0011], [0.0078, 0.0078, 0.0061, 0.0061, 0.0134, 0.0134, 0.0211, 0.0002, 0.0002, 0.0008, 0.0008, 0.0002, 0.0002, 0.0009, 0.0009, 0.0004, 0.0004], [0.0041, 0.0041, 0.0043, 0.0043, 0.0025, 0.0025, 0.0077, 0.0, 0.0, 0.0002, 0.0002, 0.0, 0.0, 0.0002, 0.0002, 0.0002, 0.0002]]}}, vbm={'band_index': {'1': [75]}, 'kpoint_index': [169], 'kpoint': <pymatgen.electronic_structure.bandstructure.Kpoint object at 0x78708cf27e20>, 'energy': 2.8272, 'projections': {'1': [[0.0099, 0.0099, 0.0037, 0.0036, 0.0004, 0.0004, 0.0, 0.0, 0.0, 0.0, 0.0, 0.0, 0.0, 0.0, 0.0, 0.0, 0.0], [0.0012, 0.0012, 0.0043, 0.0043, 0.0022, 0.0022, 0.0385, 0.0, 0.0, 0.0003, 0.0003, 0.0084, 0.0084, 0.0, 0.0, 0.0025, 0.0025], [0.0083, 0.0083, 0.0049, 0.0049, 0.0, 0.0, 0.0184, 0.0005, 0.0005, 0.0065, 0.0065, 0.0013, 0.0013, 0.0001, 0.0001, 0.0005, 0.0005], [0.0053, 0.0054, 0.0027, 0.0027, 0.0006, 0.0006, 0.0005, 0.0007, 0.0007, 0.0007, 0.0007, 0.0, 0.0, 0.0051, 0.0051, 0.0001, 0.0001], [0.0016, 0.0016, 0.0029, 0.0029, 0.0361, 0.0361, 0.0, 0.0, 0.0, 0.0002, 0.0002, 0.0001, 0.0001, 0.0002, 0.0002, 0.0, 0.0], [0.0004, 0.0004, 0.0349, 0.0349, 0.0142, 0.0142, 0.0, 0.0, 0.0, 0.0003, 0.0003, 0.0001, 0.0001, 0.0001, 0.0001, 0.0, 0.0], [0.0124, 0.0124, 0.0012, 0.0012, 0.0189, 0.0189, 0.0, 0.0001, 0.0001, 0.0002, 0.0002, 0.0, 0.0, 0.0, 0.0, 0.0001, 0.0001], [0.0353, 0.0353, 0.0104, 0.0104, 0.002, 0.002, 0.0, 0.0, 0.0, 0.0002, 0.0002, 0.0001, 0.0001, 0.0, 0.0, 0.0001, 0.0001], [0.0113, 0.0113, 0.0001, 0.0001, 0.0001, 0.0001, 0.0, 0.0, 0.0, 0.0, 0.0, 0.0002, 0.0002, 0.0, 0.0, 0.0, 0.0]]}}, efermi=3.0299771, is_gap_direct=False, is_metal=False, magnetic_ordering='NM', nbands=160.0, equivalent_labels={'setyawan_curtarolo': {'latimer_munro': {'\\\\Gamma': 'Γ', 'L': 'r', 'M': 'c', 'R': 'h', 'X': 'b', 'Z': 'q', 'N': 'N', 'Y': 'a^{*}'}, 'hinuma': {'\\\\Gamma': 'GAMMA', 'L': 'V_2', 'M': 'Z', 'N': 'R_2', 'R': 'T_2', 'X': 'Y_2', 'Y': 'X', 'Z': 'U_2'}}, 'latimer_munro': {'setyawan_curtarolo': {'b': 'X', 'Γ': '\\\\Gamma', 'h': 'R', 'r': 'L', 'q': 'Z', 'c': 'M', 'a': 'Y^{*}', 'm': 'm'}, 'hinuma': {'b': 'Y_2', 'Γ': 'GAMMA', 'h': 'T_2', 'r': 'V_2', 'q': 'U_2', 'c': 'Z', 'a': 'X^{*}', 'm': 'm'}}, 'hinuma': {'setyawan_curtarolo': {'GAMMA': '\\\\Gamma', 'Z': 'M', 'Y_2': 'X', 'X': 'Y', 'V_2': 'L', 'U_2': 'Z', 'T_2': 'R', 'R_2': 'N', 'Y': 'X^{*}'}, 'latimer_munro': {'GAMMA': 'Γ', 'Z': 'c', 'Y_2': 'b', 'V_2': 'r', 'U_2': 'q', 'T_2': 'h', 'Y': 'b^{*}', 'X': 'a^{*}', 'R_2': 'R_2'}}}, direct_gap=0.5712999999999999)),\n",
            "\u001b[1mdos\u001b[0;0m=DosData(total={'1': DosSummaryData(task_id=MPID(mp-1672633), band_gap=0.4594999999999998, cbm=3.2956, vbm=2.8361, efermi=2.84132367, spin_polarization=None)}, elemental={Element Y: {'total': {'1': DosSummaryData(task_id=MPID(mp-1672633), band_gap=0.4594999999999998, cbm=3.2956, vbm=2.8361, efermi=2.84132367, spin_polarization=None)}, 's': {'1': DosSummaryData(task_id=MPID(mp-1672633), band_gap=0.4594999999999998, cbm=3.2956, vbm=2.8361, efermi=2.84132367, spin_polarization=None)}, 'p': {'1': DosSummaryData(task_id=MPID(mp-1672633), band_gap=0.4594999999999998, cbm=3.2956, vbm=2.8361, efermi=2.84132367, spin_polarization=None)}, 'd': {'1': DosSummaryData(task_id=MPID(mp-1672633), band_gap=0.4594999999999998, cbm=3.2956, vbm=2.8361, efermi=2.84132367, spin_polarization=None)}}, Element Ni: {'total': {'1': DosSummaryData(task_id=MPID(mp-1672633), band_gap=0.4594999999999998, cbm=3.2956, vbm=2.8361, efermi=2.84132367, spin_polarization=None)}, 's': {'1': DosSummaryData(task_id=MPID(mp-1672633), band_gap=0.5011999999999999, cbm=3.3373, vbm=2.8361, efermi=2.84132367, spin_polarization=None)}, 'p': {'1': DosSummaryData(task_id=MPID(mp-1672633), band_gap=0.4594999999999998, cbm=3.2956, vbm=2.8361, efermi=2.84132367, spin_polarization=None)}, 'd': {'1': DosSummaryData(task_id=MPID(mp-1672633), band_gap=0.4594999999999998, cbm=3.2956, vbm=2.8361, efermi=2.84132367, spin_polarization=None)}}, Element Br: {'total': {'1': DosSummaryData(task_id=MPID(mp-1672633), band_gap=0.4594999999999998, cbm=3.2956, vbm=2.8361, efermi=2.84132367, spin_polarization=None)}, 's': {'1': DosSummaryData(task_id=MPID(mp-1672633), band_gap=0.5011999999999999, cbm=3.3373, vbm=2.8361, efermi=2.84132367, spin_polarization=None)}, 'p': {'1': DosSummaryData(task_id=MPID(mp-1672633), band_gap=0.4594999999999998, cbm=3.2956, vbm=2.8361, efermi=2.84132367, spin_polarization=None)}, 'd': {'1': DosSummaryData(task_id=MPID(mp-1672633), band_gap=0.4594999999999998, cbm=3.2956, vbm=2.8361, efermi=2.84132367, spin_polarization=None)}}}, orbital={'s': {'1': DosSummaryData(task_id=MPID(mp-1672633), band_gap=0.4594999999999998, cbm=3.2956, vbm=2.8361, efermi=2.84132367, spin_polarization=None)}, 'p': {'1': DosSummaryData(task_id=MPID(mp-1672633), band_gap=0.4594999999999998, cbm=3.2956, vbm=2.8361, efermi=2.84132367, spin_polarization=None)}, 'd': {'1': DosSummaryData(task_id=MPID(mp-1672633), band_gap=0.4594999999999998, cbm=3.2956, vbm=2.8361, efermi=2.84132367, spin_polarization=None)}}, magnetic_ordering='NM'),\n",
            "\u001b[1mdos_energy_up\u001b[0;0m=None,\n",
            "\u001b[1mdos_energy_down\u001b[0;0m=None,\n",
            "\u001b[1mis_magnetic\u001b[0;0m=False,\n",
            "\u001b[1mordering\u001b[0;0m='NM',\n",
            "\u001b[1mtotal_magnetization\u001b[0;0m=0.0,\n",
            "\u001b[1mtotal_magnetization_normalized_vol\u001b[0;0m=0.0,\n",
            "\u001b[1mtotal_magnetization_normalized_formula_units\u001b[0;0m=0.0,\n",
            "\u001b[1mnum_magnetic_sites\u001b[0;0m=0,\n",
            "\u001b[1mnum_unique_magnetic_sites\u001b[0;0m=0,\n",
            "\u001b[1mtypes_of_magnetic_species\u001b[0;0m=[],\n",
            "\u001b[1mbulk_modulus\u001b[0;0m=None,\n",
            "\u001b[1mshear_modulus\u001b[0;0m=None,\n",
            "\u001b[1muniversal_anisotropy\u001b[0;0m=None,\n",
            "\u001b[1mhomogeneous_poisson\u001b[0;0m=None,\n",
            "\u001b[1me_total\u001b[0;0m=None,\n",
            "\u001b[1me_ionic\u001b[0;0m=None,\n",
            "\u001b[1me_electronic\u001b[0;0m=None,\n",
            "\u001b[1mn\u001b[0;0m=None,\n",
            "\u001b[1me_ij_max\u001b[0;0m=None,\n",
            "\u001b[1mweighted_surface_energy_EV_PER_ANG2\u001b[0;0m=None,\n",
            "\u001b[1mweighted_surface_energy\u001b[0;0m=None,\n",
            "\u001b[1mweighted_work_function\u001b[0;0m=None,\n",
            "\u001b[1msurface_anisotropy\u001b[0;0m=None,\n",
            "\u001b[1mshape_factor\u001b[0;0m=None,\n",
            "\u001b[1mhas_reconstructed\u001b[0;0m=None,\n",
            "\u001b[1mpossible_species\u001b[0;0m=[],\n",
            "\u001b[1mhas_props\u001b[0;0m={'materials': True, 'thermo': True, 'xas': False, 'grain_boundaries': False, 'chemenv': True, 'electronic_structure': True, 'absorption': False, 'bandstructure': True, 'dos': True, 'magnetism': True, 'elasticity': False, 'dielectric': False, 'piezoelectric': False, 'surface_properties': False, 'oxi_states': True, 'provenance': True, 'charge_density': True, 'eos': False, 'phonon': False, 'insertion_electrodes': False, 'substrates': False},\n",
            "\u001b[1mtheoretical\u001b[0;0m=False,\n",
            "\u001b[1mdatabase_IDs\u001b[0;0m={'icsd': ['icsd-424466']}\n",
            "\n",
            "\u001b[1mFields not requested:\u001b[0;0m\n",
            "[]\n"
          ]
        }
      ],
      "source": [
        "from pymatgen.ext.matproj import MPRester\n",
        "\n",
        "mpr = MPRester(Rodrigo_API)\n",
        "list_of_available_fields = mpr.materials.summary.available_fields\n",
        "\n",
        "with MPRester(Rodrigo_API) as mpr:\n",
        "    docs = mpr.materials.summary.search(material_ids=[\"mp-1188648\"], fields=list_of_available_fields)\n",
        "    structure = docs[0]\n",
        "    print(structure)\n"
      ]
    },
    {
      "cell_type": "markdown",
      "metadata": {
        "id": "MOenqWnyjd6x"
      },
      "source": [
        "**Creamos un dataframe en pandas donde el primer registro de cada campo se obtiene de la informacion descargada del identificador mp-1**"
      ]
    },
    {
      "cell_type": "markdown",
      "metadata": {
        "id": "Q2Mn_9bFj0cS"
      },
      "source": [
        "Eliminamos los ultimos dos registros en cada importacion, ya que cada identificador del Materials Project se descarga 3 veces de manera automatica"
      ]
    },
    {
      "cell_type": "code",
      "execution_count": null,
      "metadata": {
        "id": "ac04hEePr3_A"
      },
      "outputs": [],
      "source": [
        "import pandas as pd\n",
        "data = {\n",
        "            'material_id': structure.material_id,\n",
        "            'formula_pretty': structure.formula_pretty,\n",
        "            'band_gap': structure.band_gap,\n",
        "            'nsites': structure.nsites,\n",
        "            'nelements': structure.nelements,\n",
        "            'volume': structure.volume,\n",
        "            'density': structure.density,\n",
        "            'density_atomic': structure.density_atomic,\n",
        "            'crystal_symmetry': structure.symmetry.crystal_system,\n",
        "            'symmetry_number': structure.symmetry.number,\n",
        "            'sides_abc': structure.structure.lattice.abc,\n",
        "            'angles_abc': structure.structure.lattice.angles,\n",
        "            'uncorrected_energy_per_atom': structure.uncorrected_energy_per_atom,\n",
        "            'energy_per_atom': structure.energy_per_atom,\n",
        "            'formation_energy_per_atom': structure.formation_energy_per_atom,\n",
        "            'energy_above_hull': structure.energy_above_hull,\n",
        "            'is_stable': structure.is_stable,\n",
        "            'equilibrium_reaction_energy_per_atom': structure.equilibrium_reaction_energy_per_atom,\n",
        "            'efermi': structure.efermi,\n",
        "            'is_magnetic': structure.is_magnetic,\n",
        "            'total_magnetization': structure.total_magnetization,\n",
        "            'num_magnetic_sites': structure.num_magnetic_sites\n",
        "        }\n",
        "\n",
        "df = pd.DataFrame(data)\n",
        "df = df.drop(df.index[-2:])\n"
      ]
    },
    {
      "cell_type": "markdown",
      "metadata": {
        "id": "2czScYGmkR68"
      },
      "source": [
        "**Generamos bucles para descarga de datos por distintos rangos del indice \"material_id\"**"
      ]
    },
    {
      "cell_type": "code",
      "execution_count": null,
      "metadata": {
        "colab": {
          "background_save": true
        },
        "id": "FPCvINnFZHqb"
      },
      "outputs": [],
      "source": [
        "mport pandas as pd\n",
        "\n",
        "cont=1190998\n",
        "max_val=1200000\n",
        "while cont<max_val:\n",
        "  material_id=\"mp-\"+str(cont)\n",
        "  try:\n",
        "    with MPRester(Rodrigo_API) as mpr:\n",
        "        docs = mpr.materials.summary.search(material_ids=[material_id], fields=list_of_available_fields)\n",
        "        structure = docs[0]\n",
        "\n",
        "        formula_compuesto = structure.formula_pretty\n",
        "        numero_atomico = calcular_numero_atomico(formula_compuesto)\n",
        "\n",
        "        new_data = {\n",
        "            'material_id': structure.material_id,\n",
        "            'formula_pretty': structure.formula_pretty,\n",
        "            'band_gap': structure.band_gap,\n",
        "            'nsites': structure.nsites,\n",
        "            'nelements': structure.nelements,\n",
        "            'volume': structure.volume,\n",
        "            'density': structure.density,\n",
        "            'density_atomic': structure.density_atomic,\n",
        "            'crystal_symmetry': structure.symmetry.crystal_system,\n",
        "            'symmetry_number': structure.symmetry.number,\n",
        "            'sides_abc': structure.structure.lattice.abc,\n",
        "            'angles_abc': structure.structure.lattice.angles,\n",
        "            'uncorrected_energy_per_atom': structure.uncorrected_energy_per_atom,\n",
        "            'energy_per_atom': structure.energy_per_atom,\n",
        "            'formation_energy_per_atom': structure.formation_energy_per_atom,\n",
        "            'energy_above_hull': structure.energy_above_hull,\n",
        "            'is_stable': structure.is_stable,\n",
        "            'equilibrium_reaction_energy_per_atom': structure.equilibrium_reaction_energy_per_atom,\n",
        "            'efermi': structure.efermi,\n",
        "            'is_magnetic': structure.is_magnetic,\n",
        "            'total_magnetization': structure.total_magnetization,\n",
        "            'num_magnetic_sites': structure.num_magnetic_sites\n",
        "        }\n",
        "\n",
        "        new_row = pd.DataFrame(new_data)  # Crear un nuevo DataFrame con una fila\n",
        "\n",
        "        df = pd.concat([df, new_row], ignore_index=True)  # Agregar la nueva fila al DataFrame existente\n",
        "        df = df.drop(df.index[-2:])\n",
        "\n",
        "        print('Compuesto:',material_id,\"(\", structure.formula_pretty,\")\", \" agregado EXITOSAMENTE\")\n",
        "  except:\n",
        "    pass\n",
        "\n",
        "  cont+=1\n",
        "\n",
        "print('IMPORTACION EXITOSA HASTA MATERIAL:',max_val)\n",
        "print('DATASET ACTUAL CON ',df.shape[0],' INSTANCIAS')\n"
      ]
    },
    {
      "cell_type": "markdown",
      "source": [
        "**Transformacion de variable \"crystal_symmetry\" de tipo string a numerico segun su nivel de simetri**a"
      ],
      "metadata": {
        "id": "xRdkCx0fzECE"
      }
    },
    {
      "cell_type": "code",
      "source": [
        "mapeo = {\n",
        "    'Cubic': 1,        # Mayor simetría, más simple\n",
        "    'Tetragonal': 2,   # Simetría alta, ligeramente más compleja que la cúbica\n",
        "    'Hexagonal': 3,    # Simetría alta, comparable a la tetragonal pero con un sistema de ejes diferente\n",
        "    'Trigonal': 4,     # Similar a la hexagonal en términos de simetría, pero con diferencias en la disposición atómica\n",
        "    'Orthorhombic': 5, # Menor simetría que las anteriores, con lados de diferentes longitudes y ángulos rectos\n",
        "    'Monoclinic': 6,   # Aún menor simetría, con ángulos no ortogonales\n",
        "    'Triclinic': 7     # La menor simetría, más compleja en términos de simetría y disposición atómica\n",
        "}\n",
        "\n",
        "\n",
        "# Aplica el mapeo a la columna\n",
        "df['crystal_symmetry'] = df['crystal_symmetry'].replace(mapeo)"
      ],
      "metadata": {
        "id": "7WhEeG0MzTfS"
      },
      "execution_count": null,
      "outputs": []
    },
    {
      "cell_type": "markdown",
      "source": [
        "**Adicion de variable de peso molecular por medio de campo de formula quimica utilizando libreria periodictable**"
      ],
      "metadata": {
        "id": "9BfFfrHIzatl"
      }
    },
    {
      "cell_type": "code",
      "source": [
        "pip install periodictable"
      ],
      "metadata": {
        "id": "1YyF6F_4ztKF"
      },
      "execution_count": null,
      "outputs": []
    },
    {
      "cell_type": "code",
      "source": [
        "import pandas as pd\n",
        "import periodictable\n",
        "import re\n",
        "\n",
        "# Funciones previamente definidas para extraer elementos y calcular el peso molecular\n",
        "def extract_elements(formula):\n",
        "    pattern = r'([A-Z][a-z]*)(\\d*)'\n",
        "    matches = re.findall(pattern, formula)\n",
        "    elements = {match[0]: int(match[1]) if match[1] else 1 for match in matches}\n",
        "    return elements\n",
        "\n",
        "def calculate_molecular_weight(elements):\n",
        "    weight = 0\n",
        "    for element, count in elements.items():\n",
        "        weight += getattr(periodictable, element).mass * count\n",
        "    return weight\n",
        "\n",
        "# Añadiendo columnas al DataFrame\n",
        "df['elements'] = df['formula_pretty'].apply(extract_elements)\n",
        "df['molecular_weight'] = df['elements'].apply(calculate_molecular_weight)\n",
        "\n",
        "df.drop(columns=['elements'], inplace=True)\n"
      ],
      "metadata": {
        "id": "UJXrIhuTzvcy"
      },
      "execution_count": null,
      "outputs": []
    },
    {
      "cell_type": "markdown",
      "metadata": {
        "id": "TBCkxKJetPWW"
      },
      "source": [
        "**Eliminacion de campo \"equilibrium_reaction_energy_per_atom\" ya que posee casi la mitad de sus registros en nulo**"
      ]
    },
    {
      "cell_type": "code",
      "execution_count": null,
      "metadata": {
        "id": "a2W8CCuPtOuv"
      },
      "outputs": [],
      "source": [
        "df = df.drop('equilibrium_reaction_energy_per_atom', axis=1)"
      ]
    },
    {
      "cell_type": "markdown",
      "source": [
        "**Eliminacion de columna de indice sin valor numerico**"
      ],
      "metadata": {
        "id": "iyTHRTVh0MPG"
      }
    },
    {
      "cell_type": "code",
      "source": [
        "df.drop('material_id', axis=1, inplace=True)"
      ],
      "metadata": {
        "id": "Or6BU1FV0JFK"
      },
      "execution_count": null,
      "outputs": []
    },
    {
      "cell_type": "markdown",
      "source": [
        "**Trasformacion de variables booleanas a numericas**"
      ],
      "metadata": {
        "id": "r31gb90X0mt9"
      }
    },
    {
      "cell_type": "code",
      "source": [
        "df['is_magnetic'] = df['is_magnetic'].astype(int)\n",
        "df['is_stable'] = df['is_stable'].astype(int)"
      ],
      "metadata": {
        "id": "XUXCEKmn0wq-"
      },
      "execution_count": null,
      "outputs": []
    },
    {
      "cell_type": "markdown",
      "source": [
        "**Eliminacion registros con valores nulos y posibles valores duplicados**"
      ],
      "metadata": {
        "id": "4A8Vplxs05hh"
      }
    },
    {
      "cell_type": "code",
      "source": [
        "df=df.dropna()"
      ],
      "metadata": {
        "id": "l5cfCTVA04rB"
      },
      "execution_count": null,
      "outputs": []
    },
    {
      "cell_type": "code",
      "source": [
        "df= df.drop_duplicates()"
      ],
      "metadata": {
        "id": "rTgcEuDi1D-q"
      },
      "execution_count": null,
      "outputs": []
    },
    {
      "cell_type": "markdown",
      "source": [
        "**Exportacion del dataset obtenido de API de Materials Project**"
      ],
      "metadata": {
        "id": "eeWmJnkX3IuC"
      }
    },
    {
      "cell_type": "code",
      "source": [
        "df.to_csv('DATA_RAW_29222.csv', index=False)"
      ],
      "metadata": {
        "id": "R0__P4Ei3Pdw"
      },
      "execution_count": null,
      "outputs": []
    }
  ],
  "metadata": {
    "colab": {
      "machine_shape": "hm",
      "provenance": [],
      "authorship_tag": "ABX9TyNjTzmQmlY54/15Er1Lkkvo",
      "include_colab_link": true
    },
    "kernelspec": {
      "display_name": "Python 3",
      "name": "python3"
    },
    "language_info": {
      "name": "python"
    },
    "widgets": {
      "application/vnd.jupyter.widget-state+json": {
        "507ba620ca124ae59838a08d102b7d3f": {
          "model_module": "@jupyter-widgets/controls",
          "model_name": "HBoxModel",
          "model_module_version": "1.5.0",
          "state": {
            "_dom_classes": [],
            "_model_module": "@jupyter-widgets/controls",
            "_model_module_version": "1.5.0",
            "_model_name": "HBoxModel",
            "_view_count": null,
            "_view_module": "@jupyter-widgets/controls",
            "_view_module_version": "1.5.0",
            "_view_name": "HBoxView",
            "box_style": "",
            "children": [
              "IPY_MODEL_da9f44ef8ebf468896d046fc12a79330",
              "IPY_MODEL_ab106958ca4e42c9bd1d54cabc791671",
              "IPY_MODEL_f18896eb05dd4d7cb8c142a67b47c1b0"
            ],
            "layout": "IPY_MODEL_933bbbf77db0464cb3d6b7782789f95e"
          }
        },
        "da9f44ef8ebf468896d046fc12a79330": {
          "model_module": "@jupyter-widgets/controls",
          "model_name": "HTMLModel",
          "model_module_version": "1.5.0",
          "state": {
            "_dom_classes": [],
            "_model_module": "@jupyter-widgets/controls",
            "_model_module_version": "1.5.0",
            "_model_name": "HTMLModel",
            "_view_count": null,
            "_view_module": "@jupyter-widgets/controls",
            "_view_module_version": "1.5.0",
            "_view_name": "HTMLView",
            "description": "",
            "description_tooltip": null,
            "layout": "IPY_MODEL_ac4c60bda10a492186bd7bf0c57f2c1b",
            "placeholder": "​",
            "style": "IPY_MODEL_c4b8b2200a894bb091ee32c5a2ff096c",
            "value": "Retrieving SummaryDoc documents: 100%"
          }
        },
        "ab106958ca4e42c9bd1d54cabc791671": {
          "model_module": "@jupyter-widgets/controls",
          "model_name": "FloatProgressModel",
          "model_module_version": "1.5.0",
          "state": {
            "_dom_classes": [],
            "_model_module": "@jupyter-widgets/controls",
            "_model_module_version": "1.5.0",
            "_model_name": "FloatProgressModel",
            "_view_count": null,
            "_view_module": "@jupyter-widgets/controls",
            "_view_module_version": "1.5.0",
            "_view_name": "ProgressView",
            "bar_style": "success",
            "description": "",
            "description_tooltip": null,
            "layout": "IPY_MODEL_d35650dd8e224c8fa507ad59768c4a1d",
            "max": 1,
            "min": 0,
            "orientation": "horizontal",
            "style": "IPY_MODEL_7f5b13f3e5b5472cb3ad654039db0fc2",
            "value": 1
          }
        },
        "f18896eb05dd4d7cb8c142a67b47c1b0": {
          "model_module": "@jupyter-widgets/controls",
          "model_name": "HTMLModel",
          "model_module_version": "1.5.0",
          "state": {
            "_dom_classes": [],
            "_model_module": "@jupyter-widgets/controls",
            "_model_module_version": "1.5.0",
            "_model_name": "HTMLModel",
            "_view_count": null,
            "_view_module": "@jupyter-widgets/controls",
            "_view_module_version": "1.5.0",
            "_view_name": "HTMLView",
            "description": "",
            "description_tooltip": null,
            "layout": "IPY_MODEL_dd2c149b93074a6a941b577e0ddb7dcc",
            "placeholder": "​",
            "style": "IPY_MODEL_42c96ce6086f4588958853ca24482391",
            "value": " 1/1 [00:00&lt;00:00, 78.87it/s]"
          }
        },
        "933bbbf77db0464cb3d6b7782789f95e": {
          "model_module": "@jupyter-widgets/base",
          "model_name": "LayoutModel",
          "model_module_version": "1.2.0",
          "state": {
            "_model_module": "@jupyter-widgets/base",
            "_model_module_version": "1.2.0",
            "_model_name": "LayoutModel",
            "_view_count": null,
            "_view_module": "@jupyter-widgets/base",
            "_view_module_version": "1.2.0",
            "_view_name": "LayoutView",
            "align_content": null,
            "align_items": null,
            "align_self": null,
            "border": null,
            "bottom": null,
            "display": null,
            "flex": null,
            "flex_flow": null,
            "grid_area": null,
            "grid_auto_columns": null,
            "grid_auto_flow": null,
            "grid_auto_rows": null,
            "grid_column": null,
            "grid_gap": null,
            "grid_row": null,
            "grid_template_areas": null,
            "grid_template_columns": null,
            "grid_template_rows": null,
            "height": null,
            "justify_content": null,
            "justify_items": null,
            "left": null,
            "margin": null,
            "max_height": null,
            "max_width": null,
            "min_height": null,
            "min_width": null,
            "object_fit": null,
            "object_position": null,
            "order": null,
            "overflow": null,
            "overflow_x": null,
            "overflow_y": null,
            "padding": null,
            "right": null,
            "top": null,
            "visibility": null,
            "width": null
          }
        },
        "ac4c60bda10a492186bd7bf0c57f2c1b": {
          "model_module": "@jupyter-widgets/base",
          "model_name": "LayoutModel",
          "model_module_version": "1.2.0",
          "state": {
            "_model_module": "@jupyter-widgets/base",
            "_model_module_version": "1.2.0",
            "_model_name": "LayoutModel",
            "_view_count": null,
            "_view_module": "@jupyter-widgets/base",
            "_view_module_version": "1.2.0",
            "_view_name": "LayoutView",
            "align_content": null,
            "align_items": null,
            "align_self": null,
            "border": null,
            "bottom": null,
            "display": null,
            "flex": null,
            "flex_flow": null,
            "grid_area": null,
            "grid_auto_columns": null,
            "grid_auto_flow": null,
            "grid_auto_rows": null,
            "grid_column": null,
            "grid_gap": null,
            "grid_row": null,
            "grid_template_areas": null,
            "grid_template_columns": null,
            "grid_template_rows": null,
            "height": null,
            "justify_content": null,
            "justify_items": null,
            "left": null,
            "margin": null,
            "max_height": null,
            "max_width": null,
            "min_height": null,
            "min_width": null,
            "object_fit": null,
            "object_position": null,
            "order": null,
            "overflow": null,
            "overflow_x": null,
            "overflow_y": null,
            "padding": null,
            "right": null,
            "top": null,
            "visibility": null,
            "width": null
          }
        },
        "c4b8b2200a894bb091ee32c5a2ff096c": {
          "model_module": "@jupyter-widgets/controls",
          "model_name": "DescriptionStyleModel",
          "model_module_version": "1.5.0",
          "state": {
            "_model_module": "@jupyter-widgets/controls",
            "_model_module_version": "1.5.0",
            "_model_name": "DescriptionStyleModel",
            "_view_count": null,
            "_view_module": "@jupyter-widgets/base",
            "_view_module_version": "1.2.0",
            "_view_name": "StyleView",
            "description_width": ""
          }
        },
        "d35650dd8e224c8fa507ad59768c4a1d": {
          "model_module": "@jupyter-widgets/base",
          "model_name": "LayoutModel",
          "model_module_version": "1.2.0",
          "state": {
            "_model_module": "@jupyter-widgets/base",
            "_model_module_version": "1.2.0",
            "_model_name": "LayoutModel",
            "_view_count": null,
            "_view_module": "@jupyter-widgets/base",
            "_view_module_version": "1.2.0",
            "_view_name": "LayoutView",
            "align_content": null,
            "align_items": null,
            "align_self": null,
            "border": null,
            "bottom": null,
            "display": null,
            "flex": null,
            "flex_flow": null,
            "grid_area": null,
            "grid_auto_columns": null,
            "grid_auto_flow": null,
            "grid_auto_rows": null,
            "grid_column": null,
            "grid_gap": null,
            "grid_row": null,
            "grid_template_areas": null,
            "grid_template_columns": null,
            "grid_template_rows": null,
            "height": null,
            "justify_content": null,
            "justify_items": null,
            "left": null,
            "margin": null,
            "max_height": null,
            "max_width": null,
            "min_height": null,
            "min_width": null,
            "object_fit": null,
            "object_position": null,
            "order": null,
            "overflow": null,
            "overflow_x": null,
            "overflow_y": null,
            "padding": null,
            "right": null,
            "top": null,
            "visibility": null,
            "width": null
          }
        },
        "7f5b13f3e5b5472cb3ad654039db0fc2": {
          "model_module": "@jupyter-widgets/controls",
          "model_name": "ProgressStyleModel",
          "model_module_version": "1.5.0",
          "state": {
            "_model_module": "@jupyter-widgets/controls",
            "_model_module_version": "1.5.0",
            "_model_name": "ProgressStyleModel",
            "_view_count": null,
            "_view_module": "@jupyter-widgets/base",
            "_view_module_version": "1.2.0",
            "_view_name": "StyleView",
            "bar_color": null,
            "description_width": ""
          }
        },
        "dd2c149b93074a6a941b577e0ddb7dcc": {
          "model_module": "@jupyter-widgets/base",
          "model_name": "LayoutModel",
          "model_module_version": "1.2.0",
          "state": {
            "_model_module": "@jupyter-widgets/base",
            "_model_module_version": "1.2.0",
            "_model_name": "LayoutModel",
            "_view_count": null,
            "_view_module": "@jupyter-widgets/base",
            "_view_module_version": "1.2.0",
            "_view_name": "LayoutView",
            "align_content": null,
            "align_items": null,
            "align_self": null,
            "border": null,
            "bottom": null,
            "display": null,
            "flex": null,
            "flex_flow": null,
            "grid_area": null,
            "grid_auto_columns": null,
            "grid_auto_flow": null,
            "grid_auto_rows": null,
            "grid_column": null,
            "grid_gap": null,
            "grid_row": null,
            "grid_template_areas": null,
            "grid_template_columns": null,
            "grid_template_rows": null,
            "height": null,
            "justify_content": null,
            "justify_items": null,
            "left": null,
            "margin": null,
            "max_height": null,
            "max_width": null,
            "min_height": null,
            "min_width": null,
            "object_fit": null,
            "object_position": null,
            "order": null,
            "overflow": null,
            "overflow_x": null,
            "overflow_y": null,
            "padding": null,
            "right": null,
            "top": null,
            "visibility": null,
            "width": null
          }
        },
        "42c96ce6086f4588958853ca24482391": {
          "model_module": "@jupyter-widgets/controls",
          "model_name": "DescriptionStyleModel",
          "model_module_version": "1.5.0",
          "state": {
            "_model_module": "@jupyter-widgets/controls",
            "_model_module_version": "1.5.0",
            "_model_name": "DescriptionStyleModel",
            "_view_count": null,
            "_view_module": "@jupyter-widgets/base",
            "_view_module_version": "1.2.0",
            "_view_name": "StyleView",
            "description_width": ""
          }
        }
      }
    }
  },
  "nbformat": 4,
  "nbformat_minor": 0
}